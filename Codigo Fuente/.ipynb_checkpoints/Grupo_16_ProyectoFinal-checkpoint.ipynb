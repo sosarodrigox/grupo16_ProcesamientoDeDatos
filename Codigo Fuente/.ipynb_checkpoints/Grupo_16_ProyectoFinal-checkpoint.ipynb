{
 "cells": [
  {
   "cell_type": "markdown",
   "id": "a6278b7a",
   "metadata": {},
   "source": [
    "# Proyecto Final Procesamiento de Datos - Grupo 16."
   ]
  },
  {
   "cell_type": "markdown",
   "id": "0a0cdac0",
   "metadata": {},
   "source": [
    "Integrantes:\n",
    "\n",
    "    *\n",
    "    *\n",
    "    *\n",
    "    *"
   ]
  },
  {
   "cell_type": "markdown",
   "id": "241c0a6b",
   "metadata": {},
   "source": [
    "Descripción del proyecto: El proyecto consiste en desarrollar un procesamiento de datos que incluya las siguientes etapas:\n",
    "\n",
    "1) Recolección y preparación de datos: Obtener o recolectar conjuntos de datos relevantes para el tema elegido. Realizar las tareas de limpieza, integración y transformación necesarias para preparar los datos para el análisis.\n",
    "\n",
    "\n"
   ]
  },
  {
   "cell_type": "code",
   "execution_count": null,
   "id": "07a97b35",
   "metadata": {},
   "outputs": [],
   "source": []
  },
  {
   "cell_type": "markdown",
   "id": "352d7ac8",
   "metadata": {},
   "source": [
    "2) Análisis exploratorio de datos: Aplicar técnicas de análisis exploratorio para comprender y explorar los datos en profundidad. Esto puede incluir la identificación de patrones, relaciones, valores atípicos y distribuciones de variables.\n",
    "    "
   ]
  },
  {
   "cell_type": "code",
   "execution_count": null,
   "id": "25da1c69",
   "metadata": {},
   "outputs": [],
   "source": []
  },
  {
   "cell_type": "markdown",
   "id": "b29032d8",
   "metadata": {},
   "source": [
    "3) Procesamiento y análisis de datos: Aplicar técnicas de procesamiento de datos para realizar tareas como filtrado, agregación, transformación y cálculo de métricas relevantes para el tema elegido. Utilizar herramientas de software y lenguajes de programación adecuados para llevar a cabo estas tareas."
   ]
  },
  {
   "cell_type": "code",
   "execution_count": null,
   "id": "d62aad6a",
   "metadata": {},
   "outputs": [],
   "source": []
  },
  {
   "cell_type": "markdown",
   "id": "1a08b353",
   "metadata": {},
   "source": [
    "4) Visualización de datos: Utilizar técnicas y herramientas de visualización de datos para representar gráficamente la información obtenida. Se deben explorar diferentes técnicas de visualización, como gráficos de barras, gráficos de dispersión, diagramas de caja, mapas, entre otros. Además, aplicar técnicas de visualización de múltiples variables para identificar relaciones y patrones complejos en los datos."
   ]
  },
  {
   "cell_type": "code",
   "execution_count": null,
   "id": "7ec0499a",
   "metadata": {},
   "outputs": [],
   "source": []
  },
  {
   "cell_type": "markdown",
   "id": "e1db1597",
   "metadata": {},
   "source": [
    "5) Comunicación efectiva de resultados: Generar reportes que presenten de manera clara y concisa los resultados obtenidos durante el procesamiento y análisis de datos."
   ]
  }
 ],
 "metadata": {
  "kernelspec": {
   "display_name": "Python 3 (ipykernel)",
   "language": "python",
   "name": "python3"
  },
  "language_info": {
   "codemirror_mode": {
    "name": "ipython",
    "version": 3
   },
   "file_extension": ".py",
   "mimetype": "text/x-python",
   "name": "python",
   "nbconvert_exporter": "python",
   "pygments_lexer": "ipython3",
   "version": "3.10.9"
  }
 },
 "nbformat": 4,
 "nbformat_minor": 5
}

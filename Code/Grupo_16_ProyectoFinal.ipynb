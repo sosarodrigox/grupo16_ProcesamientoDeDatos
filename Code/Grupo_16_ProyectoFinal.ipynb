{
 "cells": [
  {
   "cell_type": "markdown",
   "id": "697b8e7a",
   "metadata": {
    "id": "697b8e7a"
   },
   "source": [
    "# Proyecto Final Procesamiento de Datos - Grupo 16."
   ]
  },
  {
   "cell_type": "markdown",
   "id": "18d1e560",
   "metadata": {
    "id": "18d1e560"
   },
   "source": [
    "Integrantes:\n",
    "\n",
    "    * Sosa, Rodrigo - sosarodrigox@gmail.com\n",
    "    *\n",
    "    *\n",
    "    *"
   ]
  },
  {
   "cell_type": "markdown",
   "id": "f122ea2f",
   "metadata": {
    "id": "f122ea2f"
   },
   "source": [
    " **Descripción del proyecto: El proyecto consiste en desarrollar un procesamiento de datos que incluya las siguientes etapas:**\n",
    "\n",
    "**1) Recolección y preparación de datos: Obtener o recolectar conjuntos de datos relevantes para el tema elegido. Realizar las tareas de limpieza, integración y transformación necesarias para preparar los datos para el análisis.**\n",
    "\n",
    "En nuestro caso utilizamos el siguiente dataset: https://www.kaggle.com/c/titanic/data\n",
    "\n",
    "Utilizamos este dataset dado que luego de investigar es uno de los mas utilizados para comenzar a utilizar las herramientas prácticas en un análisis de datos. El mismo ya se puede comenzar a trabajar por lo que comenzamos con su carga.\n",
    "\n",
    "\n",
    "\n"
   ]
  },
  {
   "cell_type": "markdown",
   "id": "49YDIkwUoJhN",
   "metadata": {
    "id": "49YDIkwUoJhN"
   },
   "source": [
    "RECOLECCIÓN"
   ]
  },
  {
   "cell_type": "code",
   "execution_count": 58,
   "id": "bf0d6aa9",
   "metadata": {
    "colab": {
     "base_uri": "https://localhost:8080/",
     "height": 511
    },
    "executionInfo": {
     "elapsed": 5354,
     "status": "ok",
     "timestamp": 1687578308646,
     "user": {
      "displayName": "Daniela Busetti Diaz",
      "userId": "15223786818188833385"
     },
     "user_tz": 180
    },
    "id": "bf0d6aa9",
    "outputId": "0ca271e9-936b-4a97-cd76-a4c8f06cf94d"
   },
   "outputs": [
    {
     "data": {
      "text/html": [
       "<div>\n",
       "<style scoped>\n",
       "    .dataframe tbody tr th:only-of-type {\n",
       "        vertical-align: middle;\n",
       "    }\n",
       "\n",
       "    .dataframe tbody tr th {\n",
       "        vertical-align: top;\n",
       "    }\n",
       "\n",
       "    .dataframe thead th {\n",
       "        text-align: right;\n",
       "    }\n",
       "</style>\n",
       "<table border=\"1\" class=\"dataframe\">\n",
       "  <thead>\n",
       "    <tr style=\"text-align: right;\">\n",
       "      <th></th>\n",
       "      <th>PassengerId</th>\n",
       "      <th>Survived</th>\n",
       "      <th>Pclass</th>\n",
       "      <th>Name</th>\n",
       "      <th>Sex</th>\n",
       "      <th>Age</th>\n",
       "      <th>SibSp</th>\n",
       "      <th>Parch</th>\n",
       "      <th>Ticket</th>\n",
       "      <th>Fare</th>\n",
       "      <th>Cabin</th>\n",
       "      <th>Embarked</th>\n",
       "    </tr>\n",
       "  </thead>\n",
       "  <tbody>\n",
       "    <tr>\n",
       "      <th>0</th>\n",
       "      <td>1</td>\n",
       "      <td>0</td>\n",
       "      <td>3</td>\n",
       "      <td>Braund, Mr. Owen Harris</td>\n",
       "      <td>male</td>\n",
       "      <td>22.0</td>\n",
       "      <td>1</td>\n",
       "      <td>0</td>\n",
       "      <td>A/5 21171</td>\n",
       "      <td>7.2500</td>\n",
       "      <td>NaN</td>\n",
       "      <td>S</td>\n",
       "    </tr>\n",
       "    <tr>\n",
       "      <th>1</th>\n",
       "      <td>2</td>\n",
       "      <td>1</td>\n",
       "      <td>1</td>\n",
       "      <td>Cumings, Mrs. John Bradley (Florence Briggs Th...</td>\n",
       "      <td>female</td>\n",
       "      <td>38.0</td>\n",
       "      <td>1</td>\n",
       "      <td>0</td>\n",
       "      <td>PC 17599</td>\n",
       "      <td>71.2833</td>\n",
       "      <td>C85</td>\n",
       "      <td>C</td>\n",
       "    </tr>\n",
       "    <tr>\n",
       "      <th>2</th>\n",
       "      <td>3</td>\n",
       "      <td>1</td>\n",
       "      <td>3</td>\n",
       "      <td>Heikkinen, Miss. Laina</td>\n",
       "      <td>female</td>\n",
       "      <td>26.0</td>\n",
       "      <td>0</td>\n",
       "      <td>0</td>\n",
       "      <td>STON/O2. 3101282</td>\n",
       "      <td>7.9250</td>\n",
       "      <td>NaN</td>\n",
       "      <td>S</td>\n",
       "    </tr>\n",
       "    <tr>\n",
       "      <th>3</th>\n",
       "      <td>4</td>\n",
       "      <td>1</td>\n",
       "      <td>1</td>\n",
       "      <td>Futrelle, Mrs. Jacques Heath (Lily May Peel)</td>\n",
       "      <td>female</td>\n",
       "      <td>35.0</td>\n",
       "      <td>1</td>\n",
       "      <td>0</td>\n",
       "      <td>113803</td>\n",
       "      <td>53.1000</td>\n",
       "      <td>C123</td>\n",
       "      <td>S</td>\n",
       "    </tr>\n",
       "    <tr>\n",
       "      <th>4</th>\n",
       "      <td>5</td>\n",
       "      <td>0</td>\n",
       "      <td>3</td>\n",
       "      <td>Allen, Mr. William Henry</td>\n",
       "      <td>male</td>\n",
       "      <td>35.0</td>\n",
       "      <td>0</td>\n",
       "      <td>0</td>\n",
       "      <td>373450</td>\n",
       "      <td>8.0500</td>\n",
       "      <td>NaN</td>\n",
       "      <td>S</td>\n",
       "    </tr>\n",
       "    <tr>\n",
       "      <th>5</th>\n",
       "      <td>6</td>\n",
       "      <td>0</td>\n",
       "      <td>3</td>\n",
       "      <td>Moran, Mr. James</td>\n",
       "      <td>male</td>\n",
       "      <td>NaN</td>\n",
       "      <td>0</td>\n",
       "      <td>0</td>\n",
       "      <td>330877</td>\n",
       "      <td>8.4583</td>\n",
       "      <td>NaN</td>\n",
       "      <td>Q</td>\n",
       "    </tr>\n",
       "    <tr>\n",
       "      <th>6</th>\n",
       "      <td>7</td>\n",
       "      <td>0</td>\n",
       "      <td>1</td>\n",
       "      <td>McCarthy, Mr. Timothy J</td>\n",
       "      <td>male</td>\n",
       "      <td>54.0</td>\n",
       "      <td>0</td>\n",
       "      <td>0</td>\n",
       "      <td>17463</td>\n",
       "      <td>51.8625</td>\n",
       "      <td>E46</td>\n",
       "      <td>S</td>\n",
       "    </tr>\n",
       "    <tr>\n",
       "      <th>7</th>\n",
       "      <td>8</td>\n",
       "      <td>0</td>\n",
       "      <td>3</td>\n",
       "      <td>Palsson, Master. Gosta Leonard</td>\n",
       "      <td>male</td>\n",
       "      <td>2.0</td>\n",
       "      <td>3</td>\n",
       "      <td>1</td>\n",
       "      <td>349909</td>\n",
       "      <td>21.0750</td>\n",
       "      <td>NaN</td>\n",
       "      <td>S</td>\n",
       "    </tr>\n",
       "    <tr>\n",
       "      <th>8</th>\n",
       "      <td>9</td>\n",
       "      <td>1</td>\n",
       "      <td>3</td>\n",
       "      <td>Johnson, Mrs. Oscar W (Elisabeth Vilhelmina Berg)</td>\n",
       "      <td>female</td>\n",
       "      <td>27.0</td>\n",
       "      <td>0</td>\n",
       "      <td>2</td>\n",
       "      <td>347742</td>\n",
       "      <td>11.1333</td>\n",
       "      <td>NaN</td>\n",
       "      <td>S</td>\n",
       "    </tr>\n",
       "    <tr>\n",
       "      <th>9</th>\n",
       "      <td>10</td>\n",
       "      <td>1</td>\n",
       "      <td>2</td>\n",
       "      <td>Nasser, Mrs. Nicholas (Adele Achem)</td>\n",
       "      <td>female</td>\n",
       "      <td>14.0</td>\n",
       "      <td>1</td>\n",
       "      <td>0</td>\n",
       "      <td>237736</td>\n",
       "      <td>30.0708</td>\n",
       "      <td>NaN</td>\n",
       "      <td>C</td>\n",
       "    </tr>\n",
       "  </tbody>\n",
       "</table>\n",
       "</div>"
      ],
      "text/plain": [
       "   PassengerId  Survived  Pclass  \\\n",
       "0            1         0       3   \n",
       "1            2         1       1   \n",
       "2            3         1       3   \n",
       "3            4         1       1   \n",
       "4            5         0       3   \n",
       "5            6         0       3   \n",
       "6            7         0       1   \n",
       "7            8         0       3   \n",
       "8            9         1       3   \n",
       "9           10         1       2   \n",
       "\n",
       "                                                Name     Sex   Age  SibSp  \\\n",
       "0                            Braund, Mr. Owen Harris    male  22.0      1   \n",
       "1  Cumings, Mrs. John Bradley (Florence Briggs Th...  female  38.0      1   \n",
       "2                             Heikkinen, Miss. Laina  female  26.0      0   \n",
       "3       Futrelle, Mrs. Jacques Heath (Lily May Peel)  female  35.0      1   \n",
       "4                           Allen, Mr. William Henry    male  35.0      0   \n",
       "5                                   Moran, Mr. James    male   NaN      0   \n",
       "6                            McCarthy, Mr. Timothy J    male  54.0      0   \n",
       "7                     Palsson, Master. Gosta Leonard    male   2.0      3   \n",
       "8  Johnson, Mrs. Oscar W (Elisabeth Vilhelmina Berg)  female  27.0      0   \n",
       "9                Nasser, Mrs. Nicholas (Adele Achem)  female  14.0      1   \n",
       "\n",
       "   Parch            Ticket     Fare Cabin Embarked  \n",
       "0      0         A/5 21171   7.2500   NaN        S  \n",
       "1      0          PC 17599  71.2833   C85        C  \n",
       "2      0  STON/O2. 3101282   7.9250   NaN        S  \n",
       "3      0            113803  53.1000  C123        S  \n",
       "4      0            373450   8.0500   NaN        S  \n",
       "5      0            330877   8.4583   NaN        Q  \n",
       "6      0             17463  51.8625   E46        S  \n",
       "7      1            349909  21.0750   NaN        S  \n",
       "8      2            347742  11.1333   NaN        S  \n",
       "9      0            237736  30.0708   NaN        C  "
      ]
     },
     "execution_count": 58,
     "metadata": {},
     "output_type": "execute_result"
    }
   ],
   "source": [
    "#Primero importamos las herramientas que vamos a utilizar para el análisis exploratorio:\n",
    "import numpy as np\n",
    "import pandas as pd # Procesamiento de datos, carga y manipulación del CSV\n",
    "import seaborn as sns\n",
    "import matplotlib.pyplot as plt #Gráficos\n",
    "\n",
    "#Importamos los datasets ubicados en /Datasets utilizando pandas:\n",
    "\n",
    "#Importar datos a colab:\n",
    "#from google.colab import drive\n",
    "#drive.mount('/content/drive')\n",
    "#data = pd.read_csv('/content/drive/MyDrive/Colab Notebooks/Procesamiento de Datos/PROYECTO ISPC/grupo16_ProcesamientoDeDatos/Datasets/train.csv')\n",
    "\n",
    "#Importar dataset local:\n",
    "data = pd.read_csv('../Datasets/train.csv')\n",
    "\n",
    "\n",
    "#Utilizamos head para ver los primeros 10 filas del conjunto de datos y evaluar como está constituido:\n",
    "data.head(10)"
   ]
  },
  {
   "cell_type": "code",
   "execution_count": 50,
   "id": "1vzX8vmqcsiP",
   "metadata": {
    "colab": {
     "base_uri": "https://localhost:8080/"
    },
    "executionInfo": {
     "elapsed": 319,
     "status": "ok",
     "timestamp": 1687578313023,
     "user": {
      "displayName": "Daniela Busetti Diaz",
      "userId": "15223786818188833385"
     },
     "user_tz": 180
    },
    "id": "1vzX8vmqcsiP",
    "outputId": "c3e67823-14d4-4e1b-cf41-9245951bff83"
   },
   "outputs": [
    {
     "data": {
      "text/plain": [
       "(891, 12)"
      ]
     },
     "execution_count": 50,
     "metadata": {},
     "output_type": "execute_result"
    }
   ],
   "source": [
    "# Vemos la cantidad de datos que tenemos (veremos 891 filas y 12 columnas)\n",
    "data.shape"
   ]
  },
  {
   "cell_type": "code",
   "execution_count": 51,
   "id": "1PxOmEu3dVHv",
   "metadata": {
    "colab": {
     "base_uri": "https://localhost:8080/"
    },
    "executionInfo": {
     "elapsed": 267,
     "status": "ok",
     "timestamp": 1687578315300,
     "user": {
      "displayName": "Daniela Busetti Diaz",
      "userId": "15223786818188833385"
     },
     "user_tz": 180
    },
    "id": "1PxOmEu3dVHv",
    "outputId": "32fe03c2-8c56-40bb-fd9f-ad06c801039b"
   },
   "outputs": [
    {
     "name": "stdout",
     "output_type": "stream",
     "text": [
      "<class 'pandas.core.frame.DataFrame'>\n",
      "RangeIndex: 891 entries, 0 to 890\n",
      "Data columns (total 12 columns):\n",
      " #   Column       Non-Null Count  Dtype  \n",
      "---  ------       --------------  -----  \n",
      " 0   PassengerId  891 non-null    int64  \n",
      " 1   Survived     891 non-null    int64  \n",
      " 2   Pclass       891 non-null    int64  \n",
      " 3   Name         891 non-null    object \n",
      " 4   Sex          891 non-null    object \n",
      " 5   Age          714 non-null    float64\n",
      " 6   SibSp        891 non-null    int64  \n",
      " 7   Parch        891 non-null    int64  \n",
      " 8   Ticket       891 non-null    object \n",
      " 9   Fare         891 non-null    float64\n",
      " 10  Cabin        204 non-null    object \n",
      " 11  Embarked     889 non-null    object \n",
      "dtypes: float64(2), int64(5), object(5)\n",
      "memory usage: 83.7+ KB\n"
     ]
    }
   ],
   "source": [
    "# Verificamos los tipos de datos del dataset\n",
    "data.info()\n"
   ]
  },
  {
   "cell_type": "markdown",
   "id": "p2KgNIqne0u7",
   "metadata": {
    "id": "p2KgNIqne0u7"
   },
   "source": [
    "Del resultado podemos observar:\n",
    "\n",
    "_Tenemos un total de 891 datos (filas) y 12 columnas\n",
    "\n",
    "_Tenemos datos de tipo string(objetos), enteros(int) y decimales(flotantes)\n",
    "\n",
    "_Tambien podemos ver que hay faltante de datos para las columnas age, cabin y embarked"
   ]
  },
  {
   "cell_type": "code",
   "execution_count": 52,
   "id": "s54vqJ_rgqtN",
   "metadata": {
    "colab": {
     "base_uri": "https://localhost:8080/"
    },
    "executionInfo": {
     "elapsed": 291,
     "status": "ok",
     "timestamp": 1687578318892,
     "user": {
      "displayName": "Daniela Busetti Diaz",
      "userId": "15223786818188833385"
     },
     "user_tz": 180
    },
    "id": "s54vqJ_rgqtN",
    "outputId": "07ee6906-b7b6-4680-f59a-3b1f8d4cfafe"
   },
   "outputs": [
    {
     "data": {
      "text/plain": [
       "PassengerId      0\n",
       "Survived         0\n",
       "Pclass           0\n",
       "Name             0\n",
       "Sex              0\n",
       "Age            177\n",
       "SibSp            0\n",
       "Parch            0\n",
       "Ticket           0\n",
       "Fare             0\n",
       "Cabin          687\n",
       "Embarked         2\n",
       "dtype: int64"
      ]
     },
     "execution_count": 52,
     "metadata": {},
     "output_type": "execute_result"
    }
   ],
   "source": [
    "# Verificamos los datos faltantes\n",
    "data.isnull().sum()\n"
   ]
  },
  {
   "cell_type": "markdown",
   "id": "Vqbjo1iwiRnG",
   "metadata": {
    "id": "Vqbjo1iwiRnG"
   },
   "source": [
    "El atributo age tiene aproximadamente un 20% de datos faltantes, para nuestro caso, consideramos conservarla, si la eliminamos podemos estar perdiendo muchos datos importantes. El atributo cabin(sectores del barco) corresponde a un 77% apriximadamente de pérdida, en nuestro caso la vamos a eliminar, pero en un análisis más profundo se puede correlacionar con otros datos y y hacer un análisis especifico de la situación. El atributo embarked tiene sólo 2 datos faltantes, por lo que sería un error eliminarlos"
   ]
  },
  {
   "cell_type": "markdown",
   "id": "SdoJvg1moOh4",
   "metadata": {
    "id": "SdoJvg1moOh4"
   },
   "source": [
    "LIMPIEZA\n",
    "\n",
    "Consideraciones:\n",
    "\n",
    "\n",
    "1_ Columnas irrelevantes\n",
    "\n",
    "2_ Cambio nombres de atributos.\n",
    "\n",
    "3_ Registos repetidos\n",
    "\n",
    "4_ Valores extremos\n",
    "\n",
    "5_ Datos faltantes"
   ]
  },
  {
   "cell_type": "code",
   "execution_count": 53,
   "id": "CYb2ZJSS6xKZ",
   "metadata": {
    "colab": {
     "base_uri": "https://localhost:8080/",
     "height": 537
    },
    "executionInfo": {
     "elapsed": 280,
     "status": "ok",
     "timestamp": 1687578322932,
     "user": {
      "displayName": "Daniela Busetti Diaz",
      "userId": "15223786818188833385"
     },
     "user_tz": 180
    },
    "id": "CYb2ZJSS6xKZ",
    "outputId": "97c61029-b833-4347-e69c-10f53a5175b7"
   },
   "outputs": [
    {
     "data": {
      "text/html": [
       "<div>\n",
       "<style scoped>\n",
       "    .dataframe tbody tr th:only-of-type {\n",
       "        vertical-align: middle;\n",
       "    }\n",
       "\n",
       "    .dataframe tbody tr th {\n",
       "        vertical-align: top;\n",
       "    }\n",
       "\n",
       "    .dataframe thead th {\n",
       "        text-align: right;\n",
       "    }\n",
       "</style>\n",
       "<table border=\"1\" class=\"dataframe\">\n",
       "  <thead>\n",
       "    <tr style=\"text-align: right;\">\n",
       "      <th></th>\n",
       "      <th>PassengerId</th>\n",
       "      <th>Survived</th>\n",
       "      <th>Pclass</th>\n",
       "      <th>Name</th>\n",
       "      <th>Sex</th>\n",
       "      <th>Age</th>\n",
       "      <th>SibSp</th>\n",
       "      <th>Parch</th>\n",
       "      <th>Ticket</th>\n",
       "      <th>Fare</th>\n",
       "      <th>Embarked</th>\n",
       "    </tr>\n",
       "  </thead>\n",
       "  <tbody>\n",
       "    <tr>\n",
       "      <th>0</th>\n",
       "      <td>1</td>\n",
       "      <td>0</td>\n",
       "      <td>3</td>\n",
       "      <td>Braund, Mr. Owen Harris</td>\n",
       "      <td>male</td>\n",
       "      <td>22.0</td>\n",
       "      <td>1</td>\n",
       "      <td>0</td>\n",
       "      <td>A/5 21171</td>\n",
       "      <td>7.2500</td>\n",
       "      <td>S</td>\n",
       "    </tr>\n",
       "    <tr>\n",
       "      <th>1</th>\n",
       "      <td>2</td>\n",
       "      <td>1</td>\n",
       "      <td>1</td>\n",
       "      <td>Cumings, Mrs. John Bradley (Florence Briggs Th...</td>\n",
       "      <td>female</td>\n",
       "      <td>38.0</td>\n",
       "      <td>1</td>\n",
       "      <td>0</td>\n",
       "      <td>PC 17599</td>\n",
       "      <td>71.2833</td>\n",
       "      <td>C</td>\n",
       "    </tr>\n",
       "    <tr>\n",
       "      <th>2</th>\n",
       "      <td>3</td>\n",
       "      <td>1</td>\n",
       "      <td>3</td>\n",
       "      <td>Heikkinen, Miss. Laina</td>\n",
       "      <td>female</td>\n",
       "      <td>26.0</td>\n",
       "      <td>0</td>\n",
       "      <td>0</td>\n",
       "      <td>STON/O2. 3101282</td>\n",
       "      <td>7.9250</td>\n",
       "      <td>S</td>\n",
       "    </tr>\n",
       "    <tr>\n",
       "      <th>3</th>\n",
       "      <td>4</td>\n",
       "      <td>1</td>\n",
       "      <td>1</td>\n",
       "      <td>Futrelle, Mrs. Jacques Heath (Lily May Peel)</td>\n",
       "      <td>female</td>\n",
       "      <td>35.0</td>\n",
       "      <td>1</td>\n",
       "      <td>0</td>\n",
       "      <td>113803</td>\n",
       "      <td>53.1000</td>\n",
       "      <td>S</td>\n",
       "    </tr>\n",
       "    <tr>\n",
       "      <th>4</th>\n",
       "      <td>5</td>\n",
       "      <td>0</td>\n",
       "      <td>3</td>\n",
       "      <td>Allen, Mr. William Henry</td>\n",
       "      <td>male</td>\n",
       "      <td>35.0</td>\n",
       "      <td>0</td>\n",
       "      <td>0</td>\n",
       "      <td>373450</td>\n",
       "      <td>8.0500</td>\n",
       "      <td>S</td>\n",
       "    </tr>\n",
       "    <tr>\n",
       "      <th>...</th>\n",
       "      <td>...</td>\n",
       "      <td>...</td>\n",
       "      <td>...</td>\n",
       "      <td>...</td>\n",
       "      <td>...</td>\n",
       "      <td>...</td>\n",
       "      <td>...</td>\n",
       "      <td>...</td>\n",
       "      <td>...</td>\n",
       "      <td>...</td>\n",
       "      <td>...</td>\n",
       "    </tr>\n",
       "    <tr>\n",
       "      <th>886</th>\n",
       "      <td>887</td>\n",
       "      <td>0</td>\n",
       "      <td>2</td>\n",
       "      <td>Montvila, Rev. Juozas</td>\n",
       "      <td>male</td>\n",
       "      <td>27.0</td>\n",
       "      <td>0</td>\n",
       "      <td>0</td>\n",
       "      <td>211536</td>\n",
       "      <td>13.0000</td>\n",
       "      <td>S</td>\n",
       "    </tr>\n",
       "    <tr>\n",
       "      <th>887</th>\n",
       "      <td>888</td>\n",
       "      <td>1</td>\n",
       "      <td>1</td>\n",
       "      <td>Graham, Miss. Margaret Edith</td>\n",
       "      <td>female</td>\n",
       "      <td>19.0</td>\n",
       "      <td>0</td>\n",
       "      <td>0</td>\n",
       "      <td>112053</td>\n",
       "      <td>30.0000</td>\n",
       "      <td>S</td>\n",
       "    </tr>\n",
       "    <tr>\n",
       "      <th>888</th>\n",
       "      <td>889</td>\n",
       "      <td>0</td>\n",
       "      <td>3</td>\n",
       "      <td>Johnston, Miss. Catherine Helen \"Carrie\"</td>\n",
       "      <td>female</td>\n",
       "      <td>NaN</td>\n",
       "      <td>1</td>\n",
       "      <td>2</td>\n",
       "      <td>W./C. 6607</td>\n",
       "      <td>23.4500</td>\n",
       "      <td>S</td>\n",
       "    </tr>\n",
       "    <tr>\n",
       "      <th>889</th>\n",
       "      <td>890</td>\n",
       "      <td>1</td>\n",
       "      <td>1</td>\n",
       "      <td>Behr, Mr. Karl Howell</td>\n",
       "      <td>male</td>\n",
       "      <td>26.0</td>\n",
       "      <td>0</td>\n",
       "      <td>0</td>\n",
       "      <td>111369</td>\n",
       "      <td>30.0000</td>\n",
       "      <td>C</td>\n",
       "    </tr>\n",
       "    <tr>\n",
       "      <th>890</th>\n",
       "      <td>891</td>\n",
       "      <td>0</td>\n",
       "      <td>3</td>\n",
       "      <td>Dooley, Mr. Patrick</td>\n",
       "      <td>male</td>\n",
       "      <td>32.0</td>\n",
       "      <td>0</td>\n",
       "      <td>0</td>\n",
       "      <td>370376</td>\n",
       "      <td>7.7500</td>\n",
       "      <td>Q</td>\n",
       "    </tr>\n",
       "  </tbody>\n",
       "</table>\n",
       "<p>891 rows × 11 columns</p>\n",
       "</div>"
      ],
      "text/plain": [
       "     PassengerId  Survived  Pclass  \\\n",
       "0              1         0       3   \n",
       "1              2         1       1   \n",
       "2              3         1       3   \n",
       "3              4         1       1   \n",
       "4              5         0       3   \n",
       "..           ...       ...     ...   \n",
       "886          887         0       2   \n",
       "887          888         1       1   \n",
       "888          889         0       3   \n",
       "889          890         1       1   \n",
       "890          891         0       3   \n",
       "\n",
       "                                                  Name     Sex   Age  SibSp  \\\n",
       "0                              Braund, Mr. Owen Harris    male  22.0      1   \n",
       "1    Cumings, Mrs. John Bradley (Florence Briggs Th...  female  38.0      1   \n",
       "2                               Heikkinen, Miss. Laina  female  26.0      0   \n",
       "3         Futrelle, Mrs. Jacques Heath (Lily May Peel)  female  35.0      1   \n",
       "4                             Allen, Mr. William Henry    male  35.0      0   \n",
       "..                                                 ...     ...   ...    ...   \n",
       "886                              Montvila, Rev. Juozas    male  27.0      0   \n",
       "887                       Graham, Miss. Margaret Edith  female  19.0      0   \n",
       "888           Johnston, Miss. Catherine Helen \"Carrie\"  female   NaN      1   \n",
       "889                              Behr, Mr. Karl Howell    male  26.0      0   \n",
       "890                                Dooley, Mr. Patrick    male  32.0      0   \n",
       "\n",
       "     Parch            Ticket     Fare Embarked  \n",
       "0        0         A/5 21171   7.2500        S  \n",
       "1        0          PC 17599  71.2833        C  \n",
       "2        0  STON/O2. 3101282   7.9250        S  \n",
       "3        0            113803  53.1000        S  \n",
       "4        0            373450   8.0500        S  \n",
       "..     ...               ...      ...      ...  \n",
       "886      0            211536  13.0000        S  \n",
       "887      0            112053  30.0000        S  \n",
       "888      2        W./C. 6607  23.4500        S  \n",
       "889      0            111369  30.0000        C  \n",
       "890      0            370376   7.7500        Q  \n",
       "\n",
       "[891 rows x 11 columns]"
      ]
     },
     "execution_count": 53,
     "metadata": {},
     "output_type": "execute_result"
    }
   ],
   "source": [
    "# 1_ Columnas irrelevantes\n",
    "# Eliminaremos la columna cabin ya que faltan muchos datos y no es muy relevante para este análisis\n",
    "data = data.drop('Cabin', axis=1)\n",
    "data"
   ]
  },
  {
   "cell_type": "code",
   "execution_count": 54,
   "id": "C8IJtQw3to6S",
   "metadata": {
    "colab": {
     "base_uri": "https://localhost:8080/"
    },
    "executionInfo": {
     "elapsed": 279,
     "status": "ok",
     "timestamp": 1687578326516,
     "user": {
      "displayName": "Daniela Busetti Diaz",
      "userId": "15223786818188833385"
     },
     "user_tz": 180
    },
    "id": "C8IJtQw3to6S",
    "outputId": "9e0ceab7-4427-4eef-8144-2981e5a80f55"
   },
   "outputs": [
    {
     "name": "stdout",
     "output_type": "stream",
     "text": [
      "<class 'pandas.core.frame.DataFrame'>\n",
      "RangeIndex: 891 entries, 0 to 890\n",
      "Data columns (total 11 columns):\n",
      " #   Column       Non-Null Count  Dtype  \n",
      "---  ------       --------------  -----  \n",
      " 0   PassengerId  891 non-null    int64  \n",
      " 1   Survived     891 non-null    int64  \n",
      " 2   Pclass       891 non-null    int64  \n",
      " 3   Name         891 non-null    object \n",
      " 4   Sex          891 non-null    object \n",
      " 5   Age          714 non-null    float64\n",
      " 6   SibSp        891 non-null    int64  \n",
      " 7   Parch        891 non-null    int64  \n",
      " 8   Ticket       891 non-null    object \n",
      " 9   Fare         891 non-null    float64\n",
      " 10  Embarked     889 non-null    object \n",
      "dtypes: float64(2), int64(5), object(4)\n",
      "memory usage: 76.7+ KB\n"
     ]
    }
   ],
   "source": [
    "# Verificamos eliminación de la columna\n",
    "data.info()"
   ]
  },
  {
   "cell_type": "code",
   "execution_count": 60,
   "id": "MXTMJuyx69Wh",
   "metadata": {
    "colab": {
     "base_uri": "https://localhost:8080/",
     "height": 815
    },
    "executionInfo": {
     "elapsed": 281,
     "status": "ok",
     "timestamp": 1687578329476,
     "user": {
      "displayName": "Daniela Busetti Diaz",
      "userId": "15223786818188833385"
     },
     "user_tz": 180
    },
    "id": "MXTMJuyx69Wh",
    "outputId": "e6855473-1eba-40c4-fc24-3ec34cda898e"
   },
   "outputs": [
    {
     "data": {
      "text/html": [
       "<div>\n",
       "<style scoped>\n",
       "    .dataframe tbody tr th:only-of-type {\n",
       "        vertical-align: middle;\n",
       "    }\n",
       "\n",
       "    .dataframe tbody tr th {\n",
       "        vertical-align: top;\n",
       "    }\n",
       "\n",
       "    .dataframe thead th {\n",
       "        text-align: right;\n",
       "    }\n",
       "</style>\n",
       "<table border=\"1\" class=\"dataframe\">\n",
       "  <thead>\n",
       "    <tr style=\"text-align: right;\">\n",
       "      <th></th>\n",
       "      <th>Id_Pasajeros</th>\n",
       "      <th>Sobrevivió?</th>\n",
       "      <th>Clase</th>\n",
       "      <th>Nombre</th>\n",
       "      <th>Género</th>\n",
       "      <th>Edad</th>\n",
       "      <th>Hermanos</th>\n",
       "      <th>Hijos/Padres</th>\n",
       "      <th>Ticket</th>\n",
       "      <th>Tarifa</th>\n",
       "      <th>Cabin</th>\n",
       "      <th>PuertoEmbarque</th>\n",
       "    </tr>\n",
       "  </thead>\n",
       "  <tbody>\n",
       "    <tr>\n",
       "      <th>0</th>\n",
       "      <td>1</td>\n",
       "      <td>0</td>\n",
       "      <td>3</td>\n",
       "      <td>Braund, Mr. Owen Harris</td>\n",
       "      <td>male</td>\n",
       "      <td>22.0</td>\n",
       "      <td>1</td>\n",
       "      <td>0</td>\n",
       "      <td>A/5 21171</td>\n",
       "      <td>7.2500</td>\n",
       "      <td>NaN</td>\n",
       "      <td>S</td>\n",
       "    </tr>\n",
       "    <tr>\n",
       "      <th>1</th>\n",
       "      <td>2</td>\n",
       "      <td>1</td>\n",
       "      <td>1</td>\n",
       "      <td>Cumings, Mrs. John Bradley (Florence Briggs Th...</td>\n",
       "      <td>female</td>\n",
       "      <td>38.0</td>\n",
       "      <td>1</td>\n",
       "      <td>0</td>\n",
       "      <td>PC 17599</td>\n",
       "      <td>71.2833</td>\n",
       "      <td>C85</td>\n",
       "      <td>C</td>\n",
       "    </tr>\n",
       "    <tr>\n",
       "      <th>2</th>\n",
       "      <td>3</td>\n",
       "      <td>1</td>\n",
       "      <td>3</td>\n",
       "      <td>Heikkinen, Miss. Laina</td>\n",
       "      <td>female</td>\n",
       "      <td>26.0</td>\n",
       "      <td>0</td>\n",
       "      <td>0</td>\n",
       "      <td>STON/O2. 3101282</td>\n",
       "      <td>7.9250</td>\n",
       "      <td>NaN</td>\n",
       "      <td>S</td>\n",
       "    </tr>\n",
       "    <tr>\n",
       "      <th>3</th>\n",
       "      <td>4</td>\n",
       "      <td>1</td>\n",
       "      <td>1</td>\n",
       "      <td>Futrelle, Mrs. Jacques Heath (Lily May Peel)</td>\n",
       "      <td>female</td>\n",
       "      <td>35.0</td>\n",
       "      <td>1</td>\n",
       "      <td>0</td>\n",
       "      <td>113803</td>\n",
       "      <td>53.1000</td>\n",
       "      <td>C123</td>\n",
       "      <td>S</td>\n",
       "    </tr>\n",
       "    <tr>\n",
       "      <th>4</th>\n",
       "      <td>5</td>\n",
       "      <td>0</td>\n",
       "      <td>3</td>\n",
       "      <td>Allen, Mr. William Henry</td>\n",
       "      <td>male</td>\n",
       "      <td>35.0</td>\n",
       "      <td>0</td>\n",
       "      <td>0</td>\n",
       "      <td>373450</td>\n",
       "      <td>8.0500</td>\n",
       "      <td>NaN</td>\n",
       "      <td>S</td>\n",
       "    </tr>\n",
       "    <tr>\n",
       "      <th>...</th>\n",
       "      <td>...</td>\n",
       "      <td>...</td>\n",
       "      <td>...</td>\n",
       "      <td>...</td>\n",
       "      <td>...</td>\n",
       "      <td>...</td>\n",
       "      <td>...</td>\n",
       "      <td>...</td>\n",
       "      <td>...</td>\n",
       "      <td>...</td>\n",
       "      <td>...</td>\n",
       "      <td>...</td>\n",
       "    </tr>\n",
       "    <tr>\n",
       "      <th>886</th>\n",
       "      <td>887</td>\n",
       "      <td>0</td>\n",
       "      <td>2</td>\n",
       "      <td>Montvila, Rev. Juozas</td>\n",
       "      <td>male</td>\n",
       "      <td>27.0</td>\n",
       "      <td>0</td>\n",
       "      <td>0</td>\n",
       "      <td>211536</td>\n",
       "      <td>13.0000</td>\n",
       "      <td>NaN</td>\n",
       "      <td>S</td>\n",
       "    </tr>\n",
       "    <tr>\n",
       "      <th>887</th>\n",
       "      <td>888</td>\n",
       "      <td>1</td>\n",
       "      <td>1</td>\n",
       "      <td>Graham, Miss. Margaret Edith</td>\n",
       "      <td>female</td>\n",
       "      <td>19.0</td>\n",
       "      <td>0</td>\n",
       "      <td>0</td>\n",
       "      <td>112053</td>\n",
       "      <td>30.0000</td>\n",
       "      <td>B42</td>\n",
       "      <td>S</td>\n",
       "    </tr>\n",
       "    <tr>\n",
       "      <th>888</th>\n",
       "      <td>889</td>\n",
       "      <td>0</td>\n",
       "      <td>3</td>\n",
       "      <td>Johnston, Miss. Catherine Helen \"Carrie\"</td>\n",
       "      <td>female</td>\n",
       "      <td>NaN</td>\n",
       "      <td>1</td>\n",
       "      <td>2</td>\n",
       "      <td>W./C. 6607</td>\n",
       "      <td>23.4500</td>\n",
       "      <td>NaN</td>\n",
       "      <td>S</td>\n",
       "    </tr>\n",
       "    <tr>\n",
       "      <th>889</th>\n",
       "      <td>890</td>\n",
       "      <td>1</td>\n",
       "      <td>1</td>\n",
       "      <td>Behr, Mr. Karl Howell</td>\n",
       "      <td>male</td>\n",
       "      <td>26.0</td>\n",
       "      <td>0</td>\n",
       "      <td>0</td>\n",
       "      <td>111369</td>\n",
       "      <td>30.0000</td>\n",
       "      <td>C148</td>\n",
       "      <td>C</td>\n",
       "    </tr>\n",
       "    <tr>\n",
       "      <th>890</th>\n",
       "      <td>891</td>\n",
       "      <td>0</td>\n",
       "      <td>3</td>\n",
       "      <td>Dooley, Mr. Patrick</td>\n",
       "      <td>male</td>\n",
       "      <td>32.0</td>\n",
       "      <td>0</td>\n",
       "      <td>0</td>\n",
       "      <td>370376</td>\n",
       "      <td>7.7500</td>\n",
       "      <td>NaN</td>\n",
       "      <td>Q</td>\n",
       "    </tr>\n",
       "  </tbody>\n",
       "</table>\n",
       "<p>891 rows × 12 columns</p>\n",
       "</div>"
      ],
      "text/plain": [
       "     Id_Pasajeros  Sobrevivió?  Clase  \\\n",
       "0               1            0      3   \n",
       "1               2            1      1   \n",
       "2               3            1      3   \n",
       "3               4            1      1   \n",
       "4               5            0      3   \n",
       "..            ...          ...    ...   \n",
       "886           887            0      2   \n",
       "887           888            1      1   \n",
       "888           889            0      3   \n",
       "889           890            1      1   \n",
       "890           891            0      3   \n",
       "\n",
       "                                                Nombre  Género  Edad  \\\n",
       "0                              Braund, Mr. Owen Harris    male  22.0   \n",
       "1    Cumings, Mrs. John Bradley (Florence Briggs Th...  female  38.0   \n",
       "2                               Heikkinen, Miss. Laina  female  26.0   \n",
       "3         Futrelle, Mrs. Jacques Heath (Lily May Peel)  female  35.0   \n",
       "4                             Allen, Mr. William Henry    male  35.0   \n",
       "..                                                 ...     ...   ...   \n",
       "886                              Montvila, Rev. Juozas    male  27.0   \n",
       "887                       Graham, Miss. Margaret Edith  female  19.0   \n",
       "888           Johnston, Miss. Catherine Helen \"Carrie\"  female   NaN   \n",
       "889                              Behr, Mr. Karl Howell    male  26.0   \n",
       "890                                Dooley, Mr. Patrick    male  32.0   \n",
       "\n",
       "     Hermanos  Hijos/Padres            Ticket   Tarifa Cabin PuertoEmbarque  \n",
       "0           1             0         A/5 21171   7.2500   NaN              S  \n",
       "1           1             0          PC 17599  71.2833   C85              C  \n",
       "2           0             0  STON/O2. 3101282   7.9250   NaN              S  \n",
       "3           1             0            113803  53.1000  C123              S  \n",
       "4           0             0            373450   8.0500   NaN              S  \n",
       "..        ...           ...               ...      ...   ...            ...  \n",
       "886         0             0            211536  13.0000   NaN              S  \n",
       "887         0             0            112053  30.0000   B42              S  \n",
       "888         1             2        W./C. 6607  23.4500   NaN              S  \n",
       "889         0             0            111369  30.0000  C148              C  \n",
       "890         0             0            370376   7.7500   NaN              Q  \n",
       "\n",
       "[891 rows x 12 columns]"
      ]
     },
     "execution_count": 60,
     "metadata": {},
     "output_type": "execute_result"
    }
   ],
   "source": [
    "# 2_ Datos Faltantes\n",
    "\n",
    "#COMPLETAR\n",
    "\n",
    "# Cambio nombres de atributos.\n",
    "data.rename(columns={'PassengerId': 'Id_Pasajeros', 'Survived': 'Sobrevivió?', 'Pclass': 'Clase', 'Name': 'Nombre', 'Sex': 'Género', 'Age': 'Edad', 'SibSp': 'Hermanos', 'Parch':'Hijos/Padres', 'Fare': 'Tarifa', 'Embarked': 'PuertoEmbarque'},  inplace=True)\n",
    "data"
   ]
  },
  {
   "cell_type": "code",
   "execution_count": 61,
   "id": "6L6msvFfs9B6",
   "metadata": {
    "colab": {
     "base_uri": "https://localhost:8080/"
    },
    "executionInfo": {
     "elapsed": 5,
     "status": "ok",
     "timestamp": 1687578341557,
     "user": {
      "displayName": "Daniela Busetti Diaz",
      "userId": "15223786818188833385"
     },
     "user_tz": 180
    },
    "id": "6L6msvFfs9B6",
    "outputId": "579021d7-fd11-481b-eb1e-b242b4d29c4e"
   },
   "outputs": [
    {
     "name": "stdout",
     "output_type": "stream",
     "text": [
      "No hay filas duplicadas en el dataset.\n"
     ]
    }
   ],
   "source": [
    "# 3_ Registros repetido\n",
    "# Verificamos si hay filas repetidas\n",
    "\n",
    "duplicados = data.duplicated()\n",
    "\n",
    "if duplicados.any():\n",
    "    print(\"Existen filas duplicadas en el dataset.\")\n",
    "else:\n",
    "    print(\"No hay filas duplicadas en el dataset.\")\n",
    "\n",
    "# En el caso que si ubieran utilizariamos: data.drop_duplicates(inplace=True)"
   ]
  },
  {
   "cell_type": "code",
   "execution_count": 62,
   "id": "KgzgC6qq9T1w",
   "metadata": {
    "colab": {
     "base_uri": "https://localhost:8080/",
     "height": 718
    },
    "executionInfo": {
     "elapsed": 1270,
     "status": "ok",
     "timestamp": 1687578345352,
     "user": {
      "displayName": "Daniela Busetti Diaz",
      "userId": "15223786818188833385"
     },
     "user_tz": 180
    },
    "id": "KgzgC6qq9T1w",
    "outputId": "597d4c94-2451-49b6-fd0a-3b3b8f5c9b53"
   },
   "outputs": [
    {
     "data": {
      "image/png": "[encoded data removed]",
      "text/plain": [
       "<Figure size 800x800 with 4 Axes>"
      ]
     },
     "metadata": {},
     "output_type": "display_data"
    }
   ],
   "source": [
    "# 4_ Valores extremos\n",
    "# Tomamos las columnas con varibles numéricas que queremos analizar\n",
    "cols_num = ['Edad', 'Hermanos', 'Hijos/Padres', 'Tarifa']\n",
    "\n",
    "fig, ax = plt.subplots(nrows=4, ncols=1, figsize=(8,8))\n",
    "fig.subplots_adjust(hspace=1)\n",
    "\n",
    "for i, col in enumerate(cols_num):\n",
    "    sns.boxplot(x=col, data=data, ax=ax[i])\n",
    "    ax[i].set_title(col)\n"
   ]
  },
  {
   "cell_type": "markdown",
   "id": "o8Q1dlrwdkD4",
   "metadata": {
    "id": "o8Q1dlrwdkD4"
   },
   "source": [
    "El análisis de valores extremos nos permite ver si hay datos que no correspondan, por ejemplo una edad negativa, o valores que no esten en un cierto rango y no sean válidos. De los graficos concluimos que el mayor número de personas está comprendida entre los 20 y 37 años, con pocas persona en el rango entre 65 y 80 años. La mayoría tiene 0 o 1 hermanos, y posiblemente en el rango de 1 a 10 personas tenga 8 hermanos. La mayoria de las persona viajó sin hijos o padres. Y las tarifas se concentran en un rango entre 3 y 40. Podemos observar un valor extremo, el de 500, que difiere mucho de los anteriores pero está la posibilidad de que le hayan cobrado más."
   ]
  },
  {
   "cell_type": "code",
   "execution_count": 63,
   "id": "M-n-dBOm5u93",
   "metadata": {
    "colab": {
     "base_uri": "https://localhost:8080/"
    },
    "executionInfo": {
     "elapsed": 10,
     "status": "ok",
     "timestamp": 1687578349035,
     "user": {
      "displayName": "Daniela Busetti Diaz",
      "userId": "15223786818188833385"
     },
     "user_tz": 180
    },
    "id": "M-n-dBOm5u93",
    "outputId": "2582b095-cd9d-4551-c823-80c9697fe0f2"
   },
   "outputs": [
    {
     "data": {
      "text/plain": [
       "29.69911764705882"
      ]
     },
     "execution_count": 63,
     "metadata": {},
     "output_type": "execute_result"
    }
   ],
   "source": [
    "# 5_ Datos faltantes\n",
    "# Los vamos a reemplazar con el promedio de las edades\n",
    "# Calculamos los promedios\n",
    "promedio_edad = data['Edad'].mean()\n",
    "promedio_edad"
   ]
  },
  {
   "cell_type": "code",
   "execution_count": 64,
   "id": "weWCPiNG_WqM",
   "metadata": {
    "executionInfo": {
     "elapsed": 264,
     "status": "ok",
     "timestamp": 1687578351929,
     "user": {
      "displayName": "Daniela Busetti Diaz",
      "userId": "15223786818188833385"
     },
     "user_tz": 180
    },
    "id": "weWCPiNG_WqM"
   },
   "outputs": [],
   "source": [
    "# Remplazamos los datos faltantes por el promedio de las edades\n",
    "data['Edad'].fillna(promedio_edad, inplace=True)"
   ]
  },
  {
   "cell_type": "code",
   "execution_count": 65,
   "id": "Pdul7TPOB0dd",
   "metadata": {
    "colab": {
     "base_uri": "https://localhost:8080/"
    },
    "executionInfo": {
     "elapsed": 12,
     "status": "ok",
     "timestamp": 1687578354413,
     "user": {
      "displayName": "Daniela Busetti Diaz",
      "userId": "15223786818188833385"
     },
     "user_tz": 180
    },
    "id": "Pdul7TPOB0dd",
    "outputId": "18fb9207-c052-40c1-8aa7-d21a5e997ea4"
   },
   "outputs": [
    {
     "data": {
      "text/plain": [
       "Id_Pasajeros        0\n",
       "Sobrevivió?         0\n",
       "Clase               0\n",
       "Nombre              0\n",
       "Género              0\n",
       "Edad                0\n",
       "Hermanos            0\n",
       "Hijos/Padres        0\n",
       "Ticket              0\n",
       "Tarifa              0\n",
       "Cabin             687\n",
       "PuertoEmbarque      2\n",
       "dtype: int64"
      ]
     },
     "execution_count": 65,
     "metadata": {},
     "output_type": "execute_result"
    }
   ],
   "source": [
    "# Comprobamos que los datos faltantes fueros reemplazados\n",
    "data.isnull().sum()"
   ]
  },
  {
   "cell_type": "code",
   "execution_count": 66,
   "id": "rD-DuPSRNqcJ",
   "metadata": {
    "colab": {
     "base_uri": "https://localhost:8080/"
    },
    "executionInfo": {
     "elapsed": 259,
     "status": "ok",
     "timestamp": 1687578365958,
     "user": {
      "displayName": "Daniela Busetti Diaz",
      "userId": "15223786818188833385"
     },
     "user_tz": 180
    },
    "id": "rD-DuPSRNqcJ",
    "outputId": "098f32a3-ca03-488d-98ab-07e69a0f046c"
   },
   "outputs": [
    {
     "data": {
      "text/plain": [
       "0    S\n",
       "Name: PuertoEmbarque, dtype: object"
      ]
     },
     "execution_count": 66,
     "metadata": {},
     "output_type": "execute_result"
    }
   ],
   "source": [
    "# Determinamos la moda de la columna Puerto Embarque\n",
    "\n",
    "moda_embarque = data['PuertoEmbarque'].mode()\n",
    "moda_embarque\n"
   ]
  },
  {
   "cell_type": "code",
   "execution_count": 67,
   "id": "k4JG9TxseKyz",
   "metadata": {
    "executionInfo": {
     "elapsed": 266,
     "status": "ok",
     "timestamp": 1687578627005,
     "user": {
      "displayName": "Daniela Busetti Diaz",
      "userId": "15223786818188833385"
     },
     "user_tz": 180
    },
    "id": "k4JG9TxseKyz"
   },
   "outputs": [],
   "source": [
    "# Remplazamos los datos faltantes por el promedio de las edades\n",
    "data['PuertoEmbarque'].fillna('S', inplace=True)"
   ]
  },
  {
   "cell_type": "code",
   "execution_count": 68,
   "id": "9EDx7AQbdn91",
   "metadata": {
    "colab": {
     "base_uri": "https://localhost:8080/"
    },
    "executionInfo": {
     "elapsed": 281,
     "status": "ok",
     "timestamp": 1687578629117,
     "user": {
      "displayName": "Daniela Busetti Diaz",
      "userId": "15223786818188833385"
     },
     "user_tz": 180
    },
    "id": "9EDx7AQbdn91",
    "outputId": "db457bd1-976c-477d-f9be-ca4dee9ea003"
   },
   "outputs": [
    {
     "data": {
      "text/plain": [
       "Id_Pasajeros        0\n",
       "Sobrevivió?         0\n",
       "Clase               0\n",
       "Nombre              0\n",
       "Género              0\n",
       "Edad                0\n",
       "Hermanos            0\n",
       "Hijos/Padres        0\n",
       "Ticket              0\n",
       "Tarifa              0\n",
       "Cabin             687\n",
       "PuertoEmbarque      0\n",
       "dtype: int64"
      ]
     },
     "execution_count": 68,
     "metadata": {},
     "output_type": "execute_result"
    }
   ],
   "source": [
    "# Comprobamos que los datos faltantes fueros reemplazados\n",
    "data.isna().sum()"
   ]
  },
  {
   "cell_type": "markdown",
   "id": "8sZZhTXqhqQy",
   "metadata": {
    "id": "8sZZhTXqhqQy"
   },
   "source": [
    "Hemos limpiado y transformado el Dataset para que quede listo para el análisis"
   ]
  },
  {
   "cell_type": "markdown",
   "id": "a15f4b50",
   "metadata": {
    "id": "a15f4b50"
   },
   "source": [
    "**2) Análisis exploratorio de datos: Aplicar técnicas de análisis exploratorio para comprender y explorar los datos en profundidad. Esto puede incluir la identificación de patrones, relaciones, valores atípicos y distribuciones de variables.**\n",
    "\n",
    "1_ Obtenemos los cálculos estadístico del dataset\n",
    "\n",
    "2_ Análisis univariado\n",
    "\n",
    "3_ Análisis bivariados\n",
    "    "
   ]
  },
  {
   "cell_type": "code",
   "execution_count": 69,
   "id": "c4996530",
   "metadata": {
    "colab": {
     "base_uri": "https://localhost:8080/",
     "height": 300
    },
    "executionInfo": {
     "elapsed": 319,
     "status": "ok",
     "timestamp": 1687578722347,
     "user": {
      "displayName": "Daniela Busetti Diaz",
      "userId": "15223786818188833385"
     },
     "user_tz": 180
    },
    "id": "c4996530",
    "outputId": "fa52a730-6b71-4755-f7b8-092a2973f925"
   },
   "outputs": [
    {
     "data": {
      "text/html": [
       "<div>\n",
       "<style scoped>\n",
       "    .dataframe tbody tr th:only-of-type {\n",
       "        vertical-align: middle;\n",
       "    }\n",
       "\n",
       "    .dataframe tbody tr th {\n",
       "        vertical-align: top;\n",
       "    }\n",
       "\n",
       "    .dataframe thead th {\n",
       "        text-align: right;\n",
       "    }\n",
       "</style>\n",
       "<table border=\"1\" class=\"dataframe\">\n",
       "  <thead>\n",
       "    <tr style=\"text-align: right;\">\n",
       "      <th></th>\n",
       "      <th>Id_Pasajeros</th>\n",
       "      <th>Sobrevivió?</th>\n",
       "      <th>Clase</th>\n",
       "      <th>Edad</th>\n",
       "      <th>Hermanos</th>\n",
       "      <th>Hijos/Padres</th>\n",
       "      <th>Tarifa</th>\n",
       "    </tr>\n",
       "  </thead>\n",
       "  <tbody>\n",
       "    <tr>\n",
       "      <th>count</th>\n",
       "      <td>891.000000</td>\n",
       "      <td>891.000000</td>\n",
       "      <td>891.000000</td>\n",
       "      <td>891.000000</td>\n",
       "      <td>891.000000</td>\n",
       "      <td>891.000000</td>\n",
       "      <td>891.000000</td>\n",
       "    </tr>\n",
       "    <tr>\n",
       "      <th>mean</th>\n",
       "      <td>446.000000</td>\n",
       "      <td>0.383838</td>\n",
       "      <td>2.308642</td>\n",
       "      <td>29.699118</td>\n",
       "      <td>0.523008</td>\n",
       "      <td>0.381594</td>\n",
       "      <td>32.204208</td>\n",
       "    </tr>\n",
       "    <tr>\n",
       "      <th>std</th>\n",
       "      <td>257.353842</td>\n",
       "      <td>0.486592</td>\n",
       "      <td>0.836071</td>\n",
       "      <td>13.002015</td>\n",
       "      <td>1.102743</td>\n",
       "      <td>0.806057</td>\n",
       "      <td>49.693429</td>\n",
       "    </tr>\n",
       "    <tr>\n",
       "      <th>min</th>\n",
       "      <td>1.000000</td>\n",
       "      <td>0.000000</td>\n",
       "      <td>1.000000</td>\n",
       "      <td>0.420000</td>\n",
       "      <td>0.000000</td>\n",
       "      <td>0.000000</td>\n",
       "      <td>0.000000</td>\n",
       "    </tr>\n",
       "    <tr>\n",
       "      <th>25%</th>\n",
       "      <td>223.500000</td>\n",
       "      <td>0.000000</td>\n",
       "      <td>2.000000</td>\n",
       "      <td>22.000000</td>\n",
       "      <td>0.000000</td>\n",
       "      <td>0.000000</td>\n",
       "      <td>7.910400</td>\n",
       "    </tr>\n",
       "    <tr>\n",
       "      <th>50%</th>\n",
       "      <td>446.000000</td>\n",
       "      <td>0.000000</td>\n",
       "      <td>3.000000</td>\n",
       "      <td>29.699118</td>\n",
       "      <td>0.000000</td>\n",
       "      <td>0.000000</td>\n",
       "      <td>14.454200</td>\n",
       "    </tr>\n",
       "    <tr>\n",
       "      <th>75%</th>\n",
       "      <td>668.500000</td>\n",
       "      <td>1.000000</td>\n",
       "      <td>3.000000</td>\n",
       "      <td>35.000000</td>\n",
       "      <td>1.000000</td>\n",
       "      <td>0.000000</td>\n",
       "      <td>31.000000</td>\n",
       "    </tr>\n",
       "    <tr>\n",
       "      <th>max</th>\n",
       "      <td>891.000000</td>\n",
       "      <td>1.000000</td>\n",
       "      <td>3.000000</td>\n",
       "      <td>80.000000</td>\n",
       "      <td>8.000000</td>\n",
       "      <td>6.000000</td>\n",
       "      <td>512.329200</td>\n",
       "    </tr>\n",
       "  </tbody>\n",
       "</table>\n",
       "</div>"
      ],
      "text/plain": [
       "       Id_Pasajeros  Sobrevivió?       Clase        Edad    Hermanos  \\\n",
       "count    891.000000   891.000000  891.000000  891.000000  891.000000   \n",
       "mean     446.000000     0.383838    2.308642   29.699118    0.523008   \n",
       "std      257.353842     0.486592    0.836071   13.002015    1.102743   \n",
       "min        1.000000     0.000000    1.000000    0.420000    0.000000   \n",
       "25%      223.500000     0.000000    2.000000   22.000000    0.000000   \n",
       "50%      446.000000     0.000000    3.000000   29.699118    0.000000   \n",
       "75%      668.500000     1.000000    3.000000   35.000000    1.000000   \n",
       "max      891.000000     1.000000    3.000000   80.000000    8.000000   \n",
       "\n",
       "       Hijos/Padres      Tarifa  \n",
       "count    891.000000  891.000000  \n",
       "mean       0.381594   32.204208  \n",
       "std        0.806057   49.693429  \n",
       "min        0.000000    0.000000  \n",
       "25%        0.000000    7.910400  \n",
       "50%        0.000000   14.454200  \n",
       "75%        0.000000   31.000000  \n",
       "max        6.000000  512.329200  "
      ]
     },
     "execution_count": 69,
     "metadata": {},
     "output_type": "execute_result"
    }
   ],
   "source": [
    "#1_ Obtenemos los cálculos estadístico del dataset\n",
    "#Vemos los datos estadísticos que forman parte del conjunto de datos con describe()\n",
    "data.describe()"
   ]
  },
  {
   "cell_type": "markdown",
   "id": "6ba7b8bc",
   "metadata": {
    "id": "6ba7b8bc"
   },
   "source": [
    "Podemos apreciar que la cuenta de pasajeros es de 891 y que el promedio de supervivencia es de 38%. El rango de edad de los pasajeros va desde los meses de edad hasta los 80 años, siendo la edad promedio 30 años. Es un ejercicio interesante tratar de averiguar la tasa de supervivencia en base a características como la edad, la clase que pagó (1era, 2da o 3ra clase) o el género."
   ]
  },
  {
   "cell_type": "code",
   "execution_count": 70,
   "id": "d7901509",
   "metadata": {
    "colab": {
     "base_uri": "https://localhost:8080/",
     "height": 1000
    },
    "executionInfo": {
     "elapsed": 925,
     "status": "ok",
     "timestamp": 1687581684583,
     "user": {
      "displayName": "Daniela Busetti Diaz",
      "userId": "15223786818188833385"
     },
     "user_tz": 180
    },
    "id": "d7901509",
    "outputId": "51ca4fe3-a8b3-4883-cfb3-4cc959f8ffad"
   },
   "outputs": [
    {
     "data": {
      "image/png": "[encoded data removed]",
      "text/plain": [
       "<Figure size 640x480 with 1 Axes>"
      ]
     },
     "metadata": {},
     "output_type": "display_data"
    },
    {
     "data": {
      "image/png": "[encoded data removed]",
      "text/plain": [
       "<Figure size 640x480 with 1 Axes>"
      ]
     },
     "metadata": {},
     "output_type": "display_data"
    },
    {
     "data": {
      "image/png": "[encoded data removed]",
      "text/plain": [
       "<Figure size 640x480 with 1 Axes>"
      ]
     },
     "metadata": {},
     "output_type": "display_data"
    },
    {
     "data": {
      "image/png": "[encoded data removed]",
      "text/plain": [
       "<Figure size 640x480 with 1 Axes>"
      ]
     },
     "metadata": {},
     "output_type": "display_data"
    }
   ],
   "source": [
    "#2_ Análisis univariado: Variables categóricas\n",
    "\n",
    "sns.countplot(x='Sobrevivió?', data=data)\n",
    "plt.show()\n",
    "sns.countplot(x='Clase', data=data)\n",
    "plt.show()\n",
    "sns.countplot(x='Género', data=data)\n",
    "plt.show()\n",
    "sns.countplot(x='PuertoEmbarque', data=data)\n",
    "plt.show()\n"
   ]
  },
  {
   "cell_type": "code",
   "execution_count": 71,
   "id": "qKrosNV7uY5h",
   "metadata": {
    "colab": {
     "base_uri": "https://localhost:8080/",
     "height": 467
    },
    "executionInfo": {
     "elapsed": 1017,
     "status": "ok",
     "timestamp": 1687582764848,
     "user": {
      "displayName": "Daniela Busetti Diaz",
      "userId": "15223786818188833385"
     },
     "user_tz": 180
    },
    "id": "qKrosNV7uY5h",
    "outputId": "721f570e-c9c9-4606-e748-00f87d4b6c94"
   },
   "outputs": [
    {
     "data": {
      "text/plain": [
       "<Axes: xlabel='Edad', ylabel='count'>"
      ]
     },
     "execution_count": 71,
     "metadata": {},
     "output_type": "execute_result"
    },
    {
     "data": {
      "image/png": "[encoded data removed]",
      "text/plain": [
       "<Figure size 640x480 with 1 Axes>"
      ]
     },
     "metadata": {},
     "output_type": "display_data"
    }
   ],
   "source": [
    "# Análisis univariado: Variables numéricas\n",
    "sns.countplot(data=data, x='Edad')"
   ]
  },
  {
   "cell_type": "code",
   "execution_count": 22,
   "id": "o5J0e88MrsRE",
   "metadata": {
    "colab": {
     "base_uri": "https://localhost:8080/",
     "height": 449
    },
    "executionInfo": {
     "elapsed": 1929,
     "status": "ok",
     "timestamp": 1687582036139,
     "user": {
      "displayName": "Daniela Busetti Diaz",
      "userId": "15223786818188833385"
     },
     "user_tz": 180
    },
    "id": "o5J0e88MrsRE",
    "outputId": "f152d240-b311-4a3d-df99-d97009022b13"
   },
   "outputs": [],
   "source": [
    "#3_ Análisis bivariados:\n",
    "# sns.countplot(x='Edad', data=data)\n",
    "# plt.show()"
   ]
  },
  {
   "cell_type": "markdown",
   "id": "ace14238",
   "metadata": {
    "id": "ace14238"
   },
   "source": [
    "3) Procesamiento y análisis de datos: Aplicar técnicas de procesamiento de datos para realizar tareas como filtrado, agregación, transformación y cálculo de métricas relevantes para el tema elegido. Utilizar herramientas de software y lenguajes de programación adecuados para llevar a cabo estas tareas."
   ]
  },
  {
   "cell_type": "code",
   "execution_count": 72,
   "id": "b1b2e874",
   "metadata": {
    "id": "b1b2e874"
   },
   "outputs": [
    {
     "name": "stdout",
     "output_type": "stream",
     "text": [
      "     Edad  Género\n",
      "7     2.0    male\n",
      "9    14.0  female\n",
      "10    4.0  female\n",
      "14   14.0  female\n",
      "16    2.0    male\n",
      "..    ...     ...\n",
      "850   4.0    male\n",
      "852   9.0  female\n",
      "853  16.0  female\n",
      "869   4.0    male\n",
      "875  15.0  female\n",
      "\n",
      "[113 rows x 2 columns]\n"
     ]
    }
   ],
   "source": [
    "#Filtrado de datos:\n",
    "#Vamos a filtrar los datos para ver cuantos sobrevivientes menores de edad hubo en el hundimiento del titanic, \n",
    "# muestro las columnas de edad y género:\n",
    "filtered_data = data[data['Edad'] < 18]\n",
    "print(filtered_data[['Edad', 'Género']])"
   ]
  },
  {
   "cell_type": "code",
   "execution_count": 73,
   "id": "a4869ad2",
   "metadata": {},
   "outputs": [
    {
     "name": "stdout",
     "output_type": "stream",
     "text": [
      "Género\n",
      "female    9.236364\n",
      "male      8.856379\n",
      "Name: Edad, dtype: float64\n"
     ]
    }
   ],
   "source": [
    "#Agregación de datos 1:\n",
    "# Calcular la media de una columna agrupada por otra columna\n",
    "grouped_data_1 = filtered_data.groupby('Género')['Edad'].mean()\n",
    "print(grouped_data_1)\n"
   ]
  },
  {
   "cell_type": "code",
   "execution_count": 74,
   "id": "b1a25ced",
   "metadata": {},
   "outputs": [
    {
     "name": "stdout",
     "output_type": "stream",
     "text": [
      "        count\n",
      "Género       \n",
      "female     55\n",
      "male       58\n"
     ]
    }
   ],
   "source": [
    "#Agregación de datos 2:\n",
    "# Calcular la suma y el conteo de una columna agrupada por otra columna\n",
    "grouped_data_2 = filtered_data.groupby('Género')['Edad'].agg(['count'])\n",
    "print(grouped_data_2)"
   ]
  },
  {
   "cell_type": "markdown",
   "id": "347818a6",
   "metadata": {},
   "source": [
    "Del análisis se desprende que la media de edad de supervivencia de los 113 niños se encuentra en torno a los 9 años, y que en cuestiones de género fue mas equitativo que en el promedio general donde los varones tuvieron una media de supervivencia menor."
   ]
  },
  {
   "cell_type": "markdown",
   "id": "2ce30cee",
   "metadata": {
    "id": "2ce30cee"
   },
   "source": [
    "4) Visualización de datos: Utilizar técnicas y herramientas de visualización de datos para representar gráficamente la información obtenida. Se deben explorar diferentes técnicas de visualización, como gráficos de barras, gráficos de dispersión, diagramas de caja, mapas, entre otros. Además, aplicar técnicas de visualización de múltiples variables para identificar relaciones y patrones complejos en los datos."
   ]
  },
  {
   "cell_type": "code",
   "execution_count": 82,
   "id": "bace7498",
   "metadata": {
    "id": "bace7498"
   },
   "outputs": [
    {
     "data": {
      "image/png": "[encoded data removed]",
      "text/plain": [
       "<Figure size 640x480 with 1 Axes>"
      ]
     },
     "metadata": {},
     "output_type": "display_data"
    }
   ],
   "source": [
    "#Gráfico de dispersión:\n",
    "plt.scatter(data['Género'], data['Sobrevivió?'])\n",
    "\n",
    "plt.xlabel('Sobrevivió?')\n",
    "plt.ylabel('Edad')\n",
    "plt.title('Gráfico de Dispersión')\n",
    "\n",
    "# Mostrar el gráfico\n",
    "plt.show()"
   ]
  },
  {
   "cell_type": "markdown",
   "id": "e66a9342",
   "metadata": {
    "id": "e66a9342"
   },
   "source": [
    "5) Comunicación efectiva de resultados: Generar reportes que presenten de manera clara y concisa los resultados obtenidos durante el procesamiento y análisis de datos."
   ]
  }
 ],
 "metadata": {
  "colab": {
   "provenance": []
  },
  "kernelspec": {
   "display_name": "Python 3 (ipykernel)",
   "language": "python",
   "name": "python3"
  },
  "language_info": {
   "codemirror_mode": {
    "name": "ipython",
    "version": 3
   },
   "file_extension": ".py",
   "mimetype": "text/x-python",
   "name": "python",
   "nbconvert_exporter": "python",
   "pygments_lexer": "ipython3",
   "version": "3.10.9"
  }
 },
 "nbformat": 4,
 "nbformat_minor": 5
}

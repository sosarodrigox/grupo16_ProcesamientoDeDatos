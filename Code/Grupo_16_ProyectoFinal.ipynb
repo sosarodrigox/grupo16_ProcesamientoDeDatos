{
 "cells": [
  {
   "cell_type": "markdown",
   "id": "697b8e7a",
   "metadata": {},
   "source": [
    "# Proyecto Final Procesamiento de Datos - Grupo 16."
   ]
  },
  {
   "cell_type": "markdown",
   "id": "18d1e560",
   "metadata": {},
   "source": [
    "Integrantes:\n",
    "\n",
    "    * (Apellido, nombre - email)\n",
    "    *\n",
    "    *\n",
    "    *"
   ]
  },
  {
   "cell_type": "markdown",
   "id": "f122ea2f",
   "metadata": {},
   "source": [
    "Descripción del proyecto: El proyecto consiste en desarrollar un procesamiento de datos que incluya las siguientes etapas:\n",
    "\n",
    "1) Recolección y preparación de datos: Obtener o recolectar conjuntos de datos relevantes para el tema elegido. Realizar las tareas de limpieza, integración y transformación necesarias para preparar los datos para el análisis.\n",
    "\n",
    "En nuestro caso utilizamos el siguiente dataset: https://www.kaggle.com/competitions/titanic/data\n",
    "\n",
    "\n",
    "\n"
   ]
  },
  {
   "cell_type": "code",
   "execution_count": null,
   "id": "bf0d6aa9",
   "metadata": {},
   "outputs": [],
   "source": []
  },
  {
   "cell_type": "markdown",
   "id": "a15f4b50",
   "metadata": {},
   "source": [
    "2) Análisis exploratorio de datos: Aplicar técnicas de análisis exploratorio para comprender y explorar los datos en profundidad. Esto puede incluir la identificación de patrones, relaciones, valores atípicos y distribuciones de variables.\n",
    "    "
   ]
  },
  {
   "cell_type": "code",
   "execution_count": null,
   "id": "d7901509",
   "metadata": {},
   "outputs": [],
   "source": []
  },
  {
   "cell_type": "markdown",
   "id": "ace14238",
   "metadata": {},
   "source": [
    "3) Procesamiento y análisis de datos: Aplicar técnicas de procesamiento de datos para realizar tareas como filtrado, agregación, transformación y cálculo de métricas relevantes para el tema elegido. Utilizar herramientas de software y lenguajes de programación adecuados para llevar a cabo estas tareas."
   ]
  },
  {
   "cell_type": "code",
   "execution_count": null,
   "id": "b1b2e874",
   "metadata": {},
   "outputs": [],
   "source": []
  },
  {
   "cell_type": "markdown",
   "id": "2ce30cee",
   "metadata": {},
   "source": [
    "4) Visualización de datos: Utilizar técnicas y herramientas de visualización de datos para representar gráficamente la información obtenida. Se deben explorar diferentes técnicas de visualización, como gráficos de barras, gráficos de dispersión, diagramas de caja, mapas, entre otros. Además, aplicar técnicas de visualización de múltiples variables para identificar relaciones y patrones complejos en los datos."
   ]
  },
  {
   "cell_type": "code",
   "execution_count": null,
   "id": "bace7498",
   "metadata": {},
   "outputs": [],
   "source": []
  },
  {
   "cell_type": "markdown",
   "id": "e66a9342",
   "metadata": {},
   "source": [
    "5) Comunicación efectiva de resultados: Generar reportes que presenten de manera clara y concisa los resultados obtenidos durante el procesamiento y análisis de datos."
   ]
  }
 ],
 "metadata": {
  "kernelspec": {
   "display_name": "Python 3 (ipykernel)",
   "language": "python",
   "name": "python3"
  },
  "language_info": {
   "codemirror_mode": {
    "name": "ipython",
    "version": 3
   },
   "file_extension": ".py",
   "mimetype": "text/x-python",
   "name": "python",
   "nbconvert_exporter": "python",
   "pygments_lexer": "ipython3",
   "version": "3.10.9"
  }
 },
 "nbformat": 4,
 "nbformat_minor": 5
}

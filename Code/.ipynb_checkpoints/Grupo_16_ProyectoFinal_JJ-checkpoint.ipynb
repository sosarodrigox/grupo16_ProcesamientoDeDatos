{
 "cells": [
  {
   "cell_type": "markdown",
   "id": "697b8e7a",
   "metadata": {
    "id": "697b8e7a"
   },
   "source": [
    "# Proyecto Final Procesamiento de Datos - Grupo 16."
   ]
  },
  {
   "cell_type": "markdown",
   "id": "18d1e560",
   "metadata": {
    "id": "18d1e560"
   },
   "source": [
    "Integrantes:\n",
    "\n",
    "    * Sosa, Rodrigo - sosarodrigox@gmail.com\n",
    "    * Jure, Juan - juansjure@gmail.com\n",
    "    * Busetti Díaz, Daniela Verñonica - danivbd@gmail.com\n",
    "    * Soria, Ezequiel - kelo72@live.com.ar\n",
    "    * ledezma mariano - marianoledezma@gmail.com"
   ]
  },
  {
   "cell_type": "code",
   "execution_count": null,
   "id": "74F-wWC_ZkjA",
   "metadata": {
    "id": "74F-wWC_ZkjA"
   },
   "outputs": [],
   "source": []
  },
  {
   "cell_type": "markdown",
   "id": "f122ea2f",
   "metadata": {
    "id": "f122ea2f"
   },
   "source": [
    " **Descripción del proyecto: El proyecto consiste en desarrollar un procesamiento de datos que incluya las siguientes etapas:**\n",
    "\n",
    "**1) Recolección y preparación de datos: Obtener o recolectar conjuntos de datos relevantes para el tema elegido. Realizar las tareas de limpieza, integración y transformación necesarias para preparar los datos para el análisis.**\n",
    "\n",
    "En nuestro caso utilizamos el siguiente dataset: https://www.kaggle.com/c/titanic/data\n",
    "\n",
    "Utilizamos este dataset dado que luego de investigar es uno de los mas utilizados para comenzar a utilizar las herramientas prácticas en un análisis de datos. El mismo ya se puede comenzar a trabajar por lo que comenzamos con su carga.\n",
    "\n",
    "\n",
    "\n"
   ]
  },
  {
   "cell_type": "markdown",
   "id": "49YDIkwUoJhN",
   "metadata": {
    "id": "49YDIkwUoJhN"
   },
   "source": [
    "RECOLECCIÓN"
   ]
  },
  {
   "cell_type": "code",
   "execution_count": 7,
   "id": "bf0d6aa9",
   "metadata": {
    "colab": {
     "base_uri": "https://localhost:8080/",
     "height": 549
    },
    "executionInfo": {
     "elapsed": 2125,
     "status": "ok",
     "timestamp": 1688003087616,
     "user": {
      "displayName": "Daniela Busetti Diaz",
      "userId": "15223786818188833385"
     },
     "user_tz": 180
    },
    "id": "bf0d6aa9",
    "outputId": "32078941-21bc-4478-960f-9d173f904e7c"
   },
   "outputs": [
    {
     "data": {
      "text/html": [
       "<div>\n",
       "<style scoped>\n",
       "    .dataframe tbody tr th:only-of-type {\n",
       "        vertical-align: middle;\n",
       "    }\n",
       "\n",
       "    .dataframe tbody tr th {\n",
       "        vertical-align: top;\n",
       "    }\n",
       "\n",
       "    .dataframe thead th {\n",
       "        text-align: right;\n",
       "    }\n",
       "</style>\n",
       "<table border=\"1\" class=\"dataframe\">\n",
       "  <thead>\n",
       "    <tr style=\"text-align: right;\">\n",
       "      <th></th>\n",
       "      <th>PassengerId</th>\n",
       "      <th>Survived</th>\n",
       "      <th>Pclass</th>\n",
       "      <th>Name</th>\n",
       "      <th>Sex</th>\n",
       "      <th>Age</th>\n",
       "      <th>SibSp</th>\n",
       "      <th>Parch</th>\n",
       "      <th>Ticket</th>\n",
       "      <th>Fare</th>\n",
       "      <th>Cabin</th>\n",
       "      <th>Embarked</th>\n",
       "    </tr>\n",
       "  </thead>\n",
       "  <tbody>\n",
       "    <tr>\n",
       "      <th>0</th>\n",
       "      <td>1</td>\n",
       "      <td>0</td>\n",
       "      <td>3</td>\n",
       "      <td>Braund, Mr. Owen Harris</td>\n",
       "      <td>male</td>\n",
       "      <td>22.0</td>\n",
       "      <td>1</td>\n",
       "      <td>0</td>\n",
       "      <td>A/5 21171</td>\n",
       "      <td>7.2500</td>\n",
       "      <td>NaN</td>\n",
       "      <td>S</td>\n",
       "    </tr>\n",
       "    <tr>\n",
       "      <th>1</th>\n",
       "      <td>2</td>\n",
       "      <td>1</td>\n",
       "      <td>1</td>\n",
       "      <td>Cumings, Mrs. John Bradley (Florence Briggs Th...</td>\n",
       "      <td>female</td>\n",
       "      <td>38.0</td>\n",
       "      <td>1</td>\n",
       "      <td>0</td>\n",
       "      <td>PC 17599</td>\n",
       "      <td>71.2833</td>\n",
       "      <td>C85</td>\n",
       "      <td>C</td>\n",
       "    </tr>\n",
       "    <tr>\n",
       "      <th>2</th>\n",
       "      <td>3</td>\n",
       "      <td>1</td>\n",
       "      <td>3</td>\n",
       "      <td>Heikkinen, Miss. Laina</td>\n",
       "      <td>female</td>\n",
       "      <td>26.0</td>\n",
       "      <td>0</td>\n",
       "      <td>0</td>\n",
       "      <td>STON/O2. 3101282</td>\n",
       "      <td>7.9250</td>\n",
       "      <td>NaN</td>\n",
       "      <td>S</td>\n",
       "    </tr>\n",
       "    <tr>\n",
       "      <th>3</th>\n",
       "      <td>4</td>\n",
       "      <td>1</td>\n",
       "      <td>1</td>\n",
       "      <td>Futrelle, Mrs. Jacques Heath (Lily May Peel)</td>\n",
       "      <td>female</td>\n",
       "      <td>35.0</td>\n",
       "      <td>1</td>\n",
       "      <td>0</td>\n",
       "      <td>113803</td>\n",
       "      <td>53.1000</td>\n",
       "      <td>C123</td>\n",
       "      <td>S</td>\n",
       "    </tr>\n",
       "    <tr>\n",
       "      <th>4</th>\n",
       "      <td>5</td>\n",
       "      <td>0</td>\n",
       "      <td>3</td>\n",
       "      <td>Allen, Mr. William Henry</td>\n",
       "      <td>male</td>\n",
       "      <td>35.0</td>\n",
       "      <td>0</td>\n",
       "      <td>0</td>\n",
       "      <td>373450</td>\n",
       "      <td>8.0500</td>\n",
       "      <td>NaN</td>\n",
       "      <td>S</td>\n",
       "    </tr>\n",
       "    <tr>\n",
       "      <th>5</th>\n",
       "      <td>6</td>\n",
       "      <td>0</td>\n",
       "      <td>3</td>\n",
       "      <td>Moran, Mr. James</td>\n",
       "      <td>male</td>\n",
       "      <td>NaN</td>\n",
       "      <td>0</td>\n",
       "      <td>0</td>\n",
       "      <td>330877</td>\n",
       "      <td>8.4583</td>\n",
       "      <td>NaN</td>\n",
       "      <td>Q</td>\n",
       "    </tr>\n",
       "    <tr>\n",
       "      <th>6</th>\n",
       "      <td>7</td>\n",
       "      <td>0</td>\n",
       "      <td>1</td>\n",
       "      <td>McCarthy, Mr. Timothy J</td>\n",
       "      <td>male</td>\n",
       "      <td>54.0</td>\n",
       "      <td>0</td>\n",
       "      <td>0</td>\n",
       "      <td>17463</td>\n",
       "      <td>51.8625</td>\n",
       "      <td>E46</td>\n",
       "      <td>S</td>\n",
       "    </tr>\n",
       "    <tr>\n",
       "      <th>7</th>\n",
       "      <td>8</td>\n",
       "      <td>0</td>\n",
       "      <td>3</td>\n",
       "      <td>Palsson, Master. Gosta Leonard</td>\n",
       "      <td>male</td>\n",
       "      <td>2.0</td>\n",
       "      <td>3</td>\n",
       "      <td>1</td>\n",
       "      <td>349909</td>\n",
       "      <td>21.0750</td>\n",
       "      <td>NaN</td>\n",
       "      <td>S</td>\n",
       "    </tr>\n",
       "    <tr>\n",
       "      <th>8</th>\n",
       "      <td>9</td>\n",
       "      <td>1</td>\n",
       "      <td>3</td>\n",
       "      <td>Johnson, Mrs. Oscar W (Elisabeth Vilhelmina Berg)</td>\n",
       "      <td>female</td>\n",
       "      <td>27.0</td>\n",
       "      <td>0</td>\n",
       "      <td>2</td>\n",
       "      <td>347742</td>\n",
       "      <td>11.1333</td>\n",
       "      <td>NaN</td>\n",
       "      <td>S</td>\n",
       "    </tr>\n",
       "    <tr>\n",
       "      <th>9</th>\n",
       "      <td>10</td>\n",
       "      <td>1</td>\n",
       "      <td>2</td>\n",
       "      <td>Nasser, Mrs. Nicholas (Adele Achem)</td>\n",
       "      <td>female</td>\n",
       "      <td>14.0</td>\n",
       "      <td>1</td>\n",
       "      <td>0</td>\n",
       "      <td>237736</td>\n",
       "      <td>30.0708</td>\n",
       "      <td>NaN</td>\n",
       "      <td>C</td>\n",
       "    </tr>\n",
       "  </tbody>\n",
       "</table>\n",
       "</div>"
      ],
      "text/plain": [
       "   PassengerId  Survived  Pclass  \\\n",
       "0            1         0       3   \n",
       "1            2         1       1   \n",
       "2            3         1       3   \n",
       "3            4         1       1   \n",
       "4            5         0       3   \n",
       "5            6         0       3   \n",
       "6            7         0       1   \n",
       "7            8         0       3   \n",
       "8            9         1       3   \n",
       "9           10         1       2   \n",
       "\n",
       "                                                Name     Sex   Age  SibSp  \\\n",
       "0                            Braund, Mr. Owen Harris    male  22.0      1   \n",
       "1  Cumings, Mrs. John Bradley (Florence Briggs Th...  female  38.0      1   \n",
       "2                             Heikkinen, Miss. Laina  female  26.0      0   \n",
       "3       Futrelle, Mrs. Jacques Heath (Lily May Peel)  female  35.0      1   \n",
       "4                           Allen, Mr. William Henry    male  35.0      0   \n",
       "5                                   Moran, Mr. James    male   NaN      0   \n",
       "6                            McCarthy, Mr. Timothy J    male  54.0      0   \n",
       "7                     Palsson, Master. Gosta Leonard    male   2.0      3   \n",
       "8  Johnson, Mrs. Oscar W (Elisabeth Vilhelmina Berg)  female  27.0      0   \n",
       "9                Nasser, Mrs. Nicholas (Adele Achem)  female  14.0      1   \n",
       "\n",
       "   Parch            Ticket     Fare Cabin Embarked  \n",
       "0      0         A/5 21171   7.2500   NaN        S  \n",
       "1      0          PC 17599  71.2833   C85        C  \n",
       "2      0  STON/O2. 3101282   7.9250   NaN        S  \n",
       "3      0            113803  53.1000  C123        S  \n",
       "4      0            373450   8.0500   NaN        S  \n",
       "5      0            330877   8.4583   NaN        Q  \n",
       "6      0             17463  51.8625   E46        S  \n",
       "7      1            349909  21.0750   NaN        S  \n",
       "8      2            347742  11.1333   NaN        S  \n",
       "9      0            237736  30.0708   NaN        C  "
      ]
     },
     "execution_count": 7,
     "metadata": {},
     "output_type": "execute_result"
    }
   ],
   "source": [
    "#Primero importamos las herramientas que vamos a utilizar para el análisis exploratorio:\n",
    "import numpy as np\n",
    "import pandas as pd # Procesamiento de datos, carga y manipulación del CSV\n",
    "import seaborn as sns\n",
    "import matplotlib.pyplot as plt #Gráficos\n",
    "\n",
    "#Importamos los datasets ubicados en /Datasets utilizando pandas:\n",
    "\n",
    "#Importar datos a colab:\n",
    "from google.colab import drive\n",
    "drive.mount('/content/drive')\n",
    "data = pd.read_csv('/content/drive/MyDrive/Colab Notebooks/Procesamiento de Datos/Proyecto Grupo 16/grupo16_ProcesamientoDeDatos/Datasets/train.csv')\n",
    "\n",
    "#Importar dataset local:\n",
    "#data = pd.read_csv('train.csv')\n",
    "\n",
    "\n",
    "#Utilizamos head para ver los primeros 10 filas del conjunto de datos y evaluar como está constituido:\n",
    "data.head(10)"
   ]
  },
  {
   "cell_type": "code",
   "execution_count": 9,
   "id": "1vzX8vmqcsiP",
   "metadata": {
    "colab": {
     "base_uri": "https://localhost:8080/"
    },
    "executionInfo": {
     "elapsed": 262,
     "status": "ok",
     "timestamp": 1688003113299,
     "user": {
      "displayName": "Daniela Busetti Diaz",
      "userId": "15223786818188833385"
     },
     "user_tz": 180
    },
    "id": "1vzX8vmqcsiP",
    "outputId": "eb81566c-9d7d-4dbd-a30c-75e73c406df3"
   },
   "outputs": [
    {
     "data": {
      "text/plain": [
       "(891, 12)"
      ]
     },
     "execution_count": 9,
     "metadata": {},
     "output_type": "execute_result"
    }
   ],
   "source": [
    "# Vemos la cantidad de datos que tenemos (veremos 891 filas y 12 columnas)\n",
    "data.shape"
   ]
  },
  {
   "cell_type": "code",
   "execution_count": 10,
   "id": "1PxOmEu3dVHv",
   "metadata": {
    "colab": {
     "base_uri": "https://localhost:8080/"
    },
    "executionInfo": {
     "elapsed": 265,
     "status": "ok",
     "timestamp": 1688003116608,
     "user": {
      "displayName": "Daniela Busetti Diaz",
      "userId": "15223786818188833385"
     },
     "user_tz": 180
    },
    "id": "1PxOmEu3dVHv",
    "outputId": "63e63ea0-b619-409c-cd35-d6e57827594f"
   },
   "outputs": [
    {
     "name": "stdout",
     "output_type": "stream",
     "text": [
      "<class 'pandas.core.frame.DataFrame'>\n",
      "RangeIndex: 891 entries, 0 to 890\n",
      "Data columns (total 12 columns):\n",
      " #   Column       Non-Null Count  Dtype  \n",
      "---  ------       --------------  -----  \n",
      " 0   PassengerId  891 non-null    int64  \n",
      " 1   Survived     891 non-null    int64  \n",
      " 2   Pclass       891 non-null    int64  \n",
      " 3   Name         891 non-null    object \n",
      " 4   Sex          891 non-null    object \n",
      " 5   Age          714 non-null    float64\n",
      " 6   SibSp        891 non-null    int64  \n",
      " 7   Parch        891 non-null    int64  \n",
      " 8   Ticket       891 non-null    object \n",
      " 9   Fare         891 non-null    float64\n",
      " 10  Cabin        204 non-null    object \n",
      " 11  Embarked     889 non-null    object \n",
      "dtypes: float64(2), int64(5), object(5)\n",
      "memory usage: 83.7+ KB\n"
     ]
    }
   ],
   "source": [
    "# Verificamos los tipos de datos del dataset\n",
    "data.info()\n"
   ]
  },
  {
   "cell_type": "markdown",
   "id": "p2KgNIqne0u7",
   "metadata": {
    "id": "p2KgNIqne0u7"
   },
   "source": [
    "Del resultado podemos observar:\n",
    "\n",
    "_Tenemos un total de 891 datos (filas) y 12 columnas\n",
    "\n",
    "_Tenemos datos de tipo string(objetos), enteros(int) y decimales(flotantes)\n",
    "\n",
    "_Tambien podemos ver que hay faltante de datos para las columnas age, cabin y embarked"
   ]
  },
  {
   "cell_type": "code",
   "execution_count": 11,
   "id": "s54vqJ_rgqtN",
   "metadata": {
    "colab": {
     "base_uri": "https://localhost:8080/"
    },
    "executionInfo": {
     "elapsed": 274,
     "status": "ok",
     "timestamp": 1688003121567,
     "user": {
      "displayName": "Daniela Busetti Diaz",
      "userId": "15223786818188833385"
     },
     "user_tz": 180
    },
    "id": "s54vqJ_rgqtN",
    "outputId": "987014b6-5f06-4ac8-9e8c-9899599ed850"
   },
   "outputs": [
    {
     "data": {
      "text/plain": [
       "PassengerId      0\n",
       "Survived         0\n",
       "Pclass           0\n",
       "Name             0\n",
       "Sex              0\n",
       "Age            177\n",
       "SibSp            0\n",
       "Parch            0\n",
       "Ticket           0\n",
       "Fare             0\n",
       "Cabin          687\n",
       "Embarked         2\n",
       "dtype: int64"
      ]
     },
     "execution_count": 11,
     "metadata": {},
     "output_type": "execute_result"
    }
   ],
   "source": [
    "# Verificamos los datos faltantes\n",
    "data.isnull().sum()\n"
   ]
  },
  {
   "cell_type": "markdown",
   "id": "Vqbjo1iwiRnG",
   "metadata": {
    "id": "Vqbjo1iwiRnG"
   },
   "source": [
    "El atributo age tiene aproximadamente un 20% de datos faltantes, para nuestro caso, consideramos conservarla, si la eliminamos podemos estar perdiendo muchos datos importantes. El atributo cabin(sectores del barco) corresponde a un 77% apriximadamente de pérdida, en nuestro caso la vamos a eliminar, pero en un análisis más profundo se puede correlacionar con otros datos y y hacer un análisis especifico de la situación. El atributo embarked tiene sólo 2 datos faltantes, por lo que sería un error eliminarlos"
   ]
  },
  {
   "cell_type": "markdown",
   "id": "SdoJvg1moOh4",
   "metadata": {
    "id": "SdoJvg1moOh4"
   },
   "source": [
    "LIMPIEZA\n",
    "\n",
    "Consideraciones:\n",
    "\n",
    "\n",
    "1_ Columnas irrelevantes\n",
    "\n",
    "2_ Cambio nombres de atributos.\n",
    "\n",
    "3_ Registos repetidos\n",
    "\n",
    "4_ Valores extremos\n",
    "\n",
    "5_ Datos faltantes"
   ]
  },
  {
   "cell_type": "code",
   "execution_count": 12,
   "id": "CYb2ZJSS6xKZ",
   "metadata": {
    "colab": {
     "base_uri": "https://localhost:8080/",
     "height": 537
    },
    "executionInfo": {
     "elapsed": 283,
     "status": "ok",
     "timestamp": 1688003126136,
     "user": {
      "displayName": "Daniela Busetti Diaz",
      "userId": "15223786818188833385"
     },
     "user_tz": 180
    },
    "id": "CYb2ZJSS6xKZ",
    "outputId": "ad53b1a8-ba54-4d8f-ff17-3cf5aac429d9"
   },
   "outputs": [
    {
     "data": {
      "text/html": [
       "<div>\n",
       "<style scoped>\n",
       "    .dataframe tbody tr th:only-of-type {\n",
       "        vertical-align: middle;\n",
       "    }\n",
       "\n",
       "    .dataframe tbody tr th {\n",
       "        vertical-align: top;\n",
       "    }\n",
       "\n",
       "    .dataframe thead th {\n",
       "        text-align: right;\n",
       "    }\n",
       "</style>\n",
       "<table border=\"1\" class=\"dataframe\">\n",
       "  <thead>\n",
       "    <tr style=\"text-align: right;\">\n",
       "      <th></th>\n",
       "      <th>PassengerId</th>\n",
       "      <th>Survived</th>\n",
       "      <th>Pclass</th>\n",
       "      <th>Name</th>\n",
       "      <th>Sex</th>\n",
       "      <th>Age</th>\n",
       "      <th>SibSp</th>\n",
       "      <th>Parch</th>\n",
       "      <th>Ticket</th>\n",
       "      <th>Fare</th>\n",
       "      <th>Embarked</th>\n",
       "    </tr>\n",
       "  </thead>\n",
       "  <tbody>\n",
       "    <tr>\n",
       "      <th>0</th>\n",
       "      <td>1</td>\n",
       "      <td>0</td>\n",
       "      <td>3</td>\n",
       "      <td>Braund, Mr. Owen Harris</td>\n",
       "      <td>male</td>\n",
       "      <td>22.0</td>\n",
       "      <td>1</td>\n",
       "      <td>0</td>\n",
       "      <td>A/5 21171</td>\n",
       "      <td>7.2500</td>\n",
       "      <td>S</td>\n",
       "    </tr>\n",
       "    <tr>\n",
       "      <th>1</th>\n",
       "      <td>2</td>\n",
       "      <td>1</td>\n",
       "      <td>1</td>\n",
       "      <td>Cumings, Mrs. John Bradley (Florence Briggs Th...</td>\n",
       "      <td>female</td>\n",
       "      <td>38.0</td>\n",
       "      <td>1</td>\n",
       "      <td>0</td>\n",
       "      <td>PC 17599</td>\n",
       "      <td>71.2833</td>\n",
       "      <td>C</td>\n",
       "    </tr>\n",
       "    <tr>\n",
       "      <th>2</th>\n",
       "      <td>3</td>\n",
       "      <td>1</td>\n",
       "      <td>3</td>\n",
       "      <td>Heikkinen, Miss. Laina</td>\n",
       "      <td>female</td>\n",
       "      <td>26.0</td>\n",
       "      <td>0</td>\n",
       "      <td>0</td>\n",
       "      <td>STON/O2. 3101282</td>\n",
       "      <td>7.9250</td>\n",
       "      <td>S</td>\n",
       "    </tr>\n",
       "    <tr>\n",
       "      <th>3</th>\n",
       "      <td>4</td>\n",
       "      <td>1</td>\n",
       "      <td>1</td>\n",
       "      <td>Futrelle, Mrs. Jacques Heath (Lily May Peel)</td>\n",
       "      <td>female</td>\n",
       "      <td>35.0</td>\n",
       "      <td>1</td>\n",
       "      <td>0</td>\n",
       "      <td>113803</td>\n",
       "      <td>53.1000</td>\n",
       "      <td>S</td>\n",
       "    </tr>\n",
       "    <tr>\n",
       "      <th>4</th>\n",
       "      <td>5</td>\n",
       "      <td>0</td>\n",
       "      <td>3</td>\n",
       "      <td>Allen, Mr. William Henry</td>\n",
       "      <td>male</td>\n",
       "      <td>35.0</td>\n",
       "      <td>0</td>\n",
       "      <td>0</td>\n",
       "      <td>373450</td>\n",
       "      <td>8.0500</td>\n",
       "      <td>S</td>\n",
       "    </tr>\n",
       "    <tr>\n",
       "      <th>...</th>\n",
       "      <td>...</td>\n",
       "      <td>...</td>\n",
       "      <td>...</td>\n",
       "      <td>...</td>\n",
       "      <td>...</td>\n",
       "      <td>...</td>\n",
       "      <td>...</td>\n",
       "      <td>...</td>\n",
       "      <td>...</td>\n",
       "      <td>...</td>\n",
       "      <td>...</td>\n",
       "    </tr>\n",
       "    <tr>\n",
       "      <th>886</th>\n",
       "      <td>887</td>\n",
       "      <td>0</td>\n",
       "      <td>2</td>\n",
       "      <td>Montvila, Rev. Juozas</td>\n",
       "      <td>male</td>\n",
       "      <td>27.0</td>\n",
       "      <td>0</td>\n",
       "      <td>0</td>\n",
       "      <td>211536</td>\n",
       "      <td>13.0000</td>\n",
       "      <td>S</td>\n",
       "    </tr>\n",
       "    <tr>\n",
       "      <th>887</th>\n",
       "      <td>888</td>\n",
       "      <td>1</td>\n",
       "      <td>1</td>\n",
       "      <td>Graham, Miss. Margaret Edith</td>\n",
       "      <td>female</td>\n",
       "      <td>19.0</td>\n",
       "      <td>0</td>\n",
       "      <td>0</td>\n",
       "      <td>112053</td>\n",
       "      <td>30.0000</td>\n",
       "      <td>S</td>\n",
       "    </tr>\n",
       "    <tr>\n",
       "      <th>888</th>\n",
       "      <td>889</td>\n",
       "      <td>0</td>\n",
       "      <td>3</td>\n",
       "      <td>Johnston, Miss. Catherine Helen \"Carrie\"</td>\n",
       "      <td>female</td>\n",
       "      <td>NaN</td>\n",
       "      <td>1</td>\n",
       "      <td>2</td>\n",
       "      <td>W./C. 6607</td>\n",
       "      <td>23.4500</td>\n",
       "      <td>S</td>\n",
       "    </tr>\n",
       "    <tr>\n",
       "      <th>889</th>\n",
       "      <td>890</td>\n",
       "      <td>1</td>\n",
       "      <td>1</td>\n",
       "      <td>Behr, Mr. Karl Howell</td>\n",
       "      <td>male</td>\n",
       "      <td>26.0</td>\n",
       "      <td>0</td>\n",
       "      <td>0</td>\n",
       "      <td>111369</td>\n",
       "      <td>30.0000</td>\n",
       "      <td>C</td>\n",
       "    </tr>\n",
       "    <tr>\n",
       "      <th>890</th>\n",
       "      <td>891</td>\n",
       "      <td>0</td>\n",
       "      <td>3</td>\n",
       "      <td>Dooley, Mr. Patrick</td>\n",
       "      <td>male</td>\n",
       "      <td>32.0</td>\n",
       "      <td>0</td>\n",
       "      <td>0</td>\n",
       "      <td>370376</td>\n",
       "      <td>7.7500</td>\n",
       "      <td>Q</td>\n",
       "    </tr>\n",
       "  </tbody>\n",
       "</table>\n",
       "<p>891 rows × 11 columns</p>\n",
       "</div>"
      ],
      "text/plain": [
       "     PassengerId  Survived  Pclass  \\\n",
       "0              1         0       3   \n",
       "1              2         1       1   \n",
       "2              3         1       3   \n",
       "3              4         1       1   \n",
       "4              5         0       3   \n",
       "..           ...       ...     ...   \n",
       "886          887         0       2   \n",
       "887          888         1       1   \n",
       "888          889         0       3   \n",
       "889          890         1       1   \n",
       "890          891         0       3   \n",
       "\n",
       "                                                  Name     Sex   Age  SibSp  \\\n",
       "0                              Braund, Mr. Owen Harris    male  22.0      1   \n",
       "1    Cumings, Mrs. John Bradley (Florence Briggs Th...  female  38.0      1   \n",
       "2                               Heikkinen, Miss. Laina  female  26.0      0   \n",
       "3         Futrelle, Mrs. Jacques Heath (Lily May Peel)  female  35.0      1   \n",
       "4                             Allen, Mr. William Henry    male  35.0      0   \n",
       "..                                                 ...     ...   ...    ...   \n",
       "886                              Montvila, Rev. Juozas    male  27.0      0   \n",
       "887                       Graham, Miss. Margaret Edith  female  19.0      0   \n",
       "888           Johnston, Miss. Catherine Helen \"Carrie\"  female   NaN      1   \n",
       "889                              Behr, Mr. Karl Howell    male  26.0      0   \n",
       "890                                Dooley, Mr. Patrick    male  32.0      0   \n",
       "\n",
       "     Parch            Ticket     Fare Embarked  \n",
       "0        0         A/5 21171   7.2500        S  \n",
       "1        0          PC 17599  71.2833        C  \n",
       "2        0  STON/O2. 3101282   7.9250        S  \n",
       "3        0            113803  53.1000        S  \n",
       "4        0            373450   8.0500        S  \n",
       "..     ...               ...      ...      ...  \n",
       "886      0            211536  13.0000        S  \n",
       "887      0            112053  30.0000        S  \n",
       "888      2        W./C. 6607  23.4500        S  \n",
       "889      0            111369  30.0000        C  \n",
       "890      0            370376   7.7500        Q  \n",
       "\n",
       "[891 rows x 11 columns]"
      ]
     },
     "execution_count": 12,
     "metadata": {},
     "output_type": "execute_result"
    }
   ],
   "source": [
    "# 1_ Columnas irrelevantes\n",
    "# Eliminaremos la columna cabin ya que faltan muchos datos y no es muy relevante para este análisis\n",
    "data = data.drop('Cabin', axis=1)\n",
    "data"
   ]
  },
  {
   "cell_type": "code",
   "execution_count": 13,
   "id": "C8IJtQw3to6S",
   "metadata": {
    "colab": {
     "base_uri": "https://localhost:8080/"
    },
    "executionInfo": {
     "elapsed": 267,
     "status": "ok",
     "timestamp": 1688003130252,
     "user": {
      "displayName": "Daniela Busetti Diaz",
      "userId": "15223786818188833385"
     },
     "user_tz": 180
    },
    "id": "C8IJtQw3to6S",
    "outputId": "3c9e1558-7e96-48b8-f82b-a8a758137766"
   },
   "outputs": [
    {
     "name": "stdout",
     "output_type": "stream",
     "text": [
      "<class 'pandas.core.frame.DataFrame'>\n",
      "RangeIndex: 891 entries, 0 to 890\n",
      "Data columns (total 11 columns):\n",
      " #   Column       Non-Null Count  Dtype  \n",
      "---  ------       --------------  -----  \n",
      " 0   PassengerId  891 non-null    int64  \n",
      " 1   Survived     891 non-null    int64  \n",
      " 2   Pclass       891 non-null    int64  \n",
      " 3   Name         891 non-null    object \n",
      " 4   Sex          891 non-null    object \n",
      " 5   Age          714 non-null    float64\n",
      " 6   SibSp        891 non-null    int64  \n",
      " 7   Parch        891 non-null    int64  \n",
      " 8   Ticket       891 non-null    object \n",
      " 9   Fare         891 non-null    float64\n",
      " 10  Embarked     889 non-null    object \n",
      "dtypes: float64(2), int64(5), object(4)\n",
      "memory usage: 76.7+ KB\n"
     ]
    }
   ],
   "source": [
    "# Verificamos eliminación de la columna\n",
    "data.info()"
   ]
  },
  {
   "cell_type": "code",
   "execution_count": 14,
   "id": "MXTMJuyx69Wh",
   "metadata": {
    "colab": {
     "base_uri": "https://localhost:8080/",
     "height": 815
    },
    "executionInfo": {
     "elapsed": 285,
     "status": "ok",
     "timestamp": 1688003138414,
     "user": {
      "displayName": "Daniela Busetti Diaz",
      "userId": "15223786818188833385"
     },
     "user_tz": 180
    },
    "id": "MXTMJuyx69Wh",
    "outputId": "2e3a4be2-f07c-49e0-a007-a39915610dd9"
   },
   "outputs": [
    {
     "data": {
      "text/html": [
       "<div>\n",
       "<style scoped>\n",
       "    .dataframe tbody tr th:only-of-type {\n",
       "        vertical-align: middle;\n",
       "    }\n",
       "\n",
       "    .dataframe tbody tr th {\n",
       "        vertical-align: top;\n",
       "    }\n",
       "\n",
       "    .dataframe thead th {\n",
       "        text-align: right;\n",
       "    }\n",
       "</style>\n",
       "<table border=\"1\" class=\"dataframe\">\n",
       "  <thead>\n",
       "    <tr style=\"text-align: right;\">\n",
       "      <th></th>\n",
       "      <th>Id_Pasajeros</th>\n",
       "      <th>Sobrevivió?</th>\n",
       "      <th>Clase</th>\n",
       "      <th>Nombre</th>\n",
       "      <th>Género</th>\n",
       "      <th>Edad</th>\n",
       "      <th>Hermanos</th>\n",
       "      <th>Hijos/Padres</th>\n",
       "      <th>Ticket</th>\n",
       "      <th>Tarifa</th>\n",
       "      <th>PuertoEmbarque</th>\n",
       "    </tr>\n",
       "  </thead>\n",
       "  <tbody>\n",
       "    <tr>\n",
       "      <th>0</th>\n",
       "      <td>1</td>\n",
       "      <td>0</td>\n",
       "      <td>3</td>\n",
       "      <td>Braund, Mr. Owen Harris</td>\n",
       "      <td>male</td>\n",
       "      <td>22.0</td>\n",
       "      <td>1</td>\n",
       "      <td>0</td>\n",
       "      <td>A/5 21171</td>\n",
       "      <td>7.2500</td>\n",
       "      <td>S</td>\n",
       "    </tr>\n",
       "    <tr>\n",
       "      <th>1</th>\n",
       "      <td>2</td>\n",
       "      <td>1</td>\n",
       "      <td>1</td>\n",
       "      <td>Cumings, Mrs. John Bradley (Florence Briggs Th...</td>\n",
       "      <td>female</td>\n",
       "      <td>38.0</td>\n",
       "      <td>1</td>\n",
       "      <td>0</td>\n",
       "      <td>PC 17599</td>\n",
       "      <td>71.2833</td>\n",
       "      <td>C</td>\n",
       "    </tr>\n",
       "    <tr>\n",
       "      <th>2</th>\n",
       "      <td>3</td>\n",
       "      <td>1</td>\n",
       "      <td>3</td>\n",
       "      <td>Heikkinen, Miss. Laina</td>\n",
       "      <td>female</td>\n",
       "      <td>26.0</td>\n",
       "      <td>0</td>\n",
       "      <td>0</td>\n",
       "      <td>STON/O2. 3101282</td>\n",
       "      <td>7.9250</td>\n",
       "      <td>S</td>\n",
       "    </tr>\n",
       "    <tr>\n",
       "      <th>3</th>\n",
       "      <td>4</td>\n",
       "      <td>1</td>\n",
       "      <td>1</td>\n",
       "      <td>Futrelle, Mrs. Jacques Heath (Lily May Peel)</td>\n",
       "      <td>female</td>\n",
       "      <td>35.0</td>\n",
       "      <td>1</td>\n",
       "      <td>0</td>\n",
       "      <td>113803</td>\n",
       "      <td>53.1000</td>\n",
       "      <td>S</td>\n",
       "    </tr>\n",
       "    <tr>\n",
       "      <th>4</th>\n",
       "      <td>5</td>\n",
       "      <td>0</td>\n",
       "      <td>3</td>\n",
       "      <td>Allen, Mr. William Henry</td>\n",
       "      <td>male</td>\n",
       "      <td>35.0</td>\n",
       "      <td>0</td>\n",
       "      <td>0</td>\n",
       "      <td>373450</td>\n",
       "      <td>8.0500</td>\n",
       "      <td>S</td>\n",
       "    </tr>\n",
       "    <tr>\n",
       "      <th>...</th>\n",
       "      <td>...</td>\n",
       "      <td>...</td>\n",
       "      <td>...</td>\n",
       "      <td>...</td>\n",
       "      <td>...</td>\n",
       "      <td>...</td>\n",
       "      <td>...</td>\n",
       "      <td>...</td>\n",
       "      <td>...</td>\n",
       "      <td>...</td>\n",
       "      <td>...</td>\n",
       "    </tr>\n",
       "    <tr>\n",
       "      <th>886</th>\n",
       "      <td>887</td>\n",
       "      <td>0</td>\n",
       "      <td>2</td>\n",
       "      <td>Montvila, Rev. Juozas</td>\n",
       "      <td>male</td>\n",
       "      <td>27.0</td>\n",
       "      <td>0</td>\n",
       "      <td>0</td>\n",
       "      <td>211536</td>\n",
       "      <td>13.0000</td>\n",
       "      <td>S</td>\n",
       "    </tr>\n",
       "    <tr>\n",
       "      <th>887</th>\n",
       "      <td>888</td>\n",
       "      <td>1</td>\n",
       "      <td>1</td>\n",
       "      <td>Graham, Miss. Margaret Edith</td>\n",
       "      <td>female</td>\n",
       "      <td>19.0</td>\n",
       "      <td>0</td>\n",
       "      <td>0</td>\n",
       "      <td>112053</td>\n",
       "      <td>30.0000</td>\n",
       "      <td>S</td>\n",
       "    </tr>\n",
       "    <tr>\n",
       "      <th>888</th>\n",
       "      <td>889</td>\n",
       "      <td>0</td>\n",
       "      <td>3</td>\n",
       "      <td>Johnston, Miss. Catherine Helen \"Carrie\"</td>\n",
       "      <td>female</td>\n",
       "      <td>NaN</td>\n",
       "      <td>1</td>\n",
       "      <td>2</td>\n",
       "      <td>W./C. 6607</td>\n",
       "      <td>23.4500</td>\n",
       "      <td>S</td>\n",
       "    </tr>\n",
       "    <tr>\n",
       "      <th>889</th>\n",
       "      <td>890</td>\n",
       "      <td>1</td>\n",
       "      <td>1</td>\n",
       "      <td>Behr, Mr. Karl Howell</td>\n",
       "      <td>male</td>\n",
       "      <td>26.0</td>\n",
       "      <td>0</td>\n",
       "      <td>0</td>\n",
       "      <td>111369</td>\n",
       "      <td>30.0000</td>\n",
       "      <td>C</td>\n",
       "    </tr>\n",
       "    <tr>\n",
       "      <th>890</th>\n",
       "      <td>891</td>\n",
       "      <td>0</td>\n",
       "      <td>3</td>\n",
       "      <td>Dooley, Mr. Patrick</td>\n",
       "      <td>male</td>\n",
       "      <td>32.0</td>\n",
       "      <td>0</td>\n",
       "      <td>0</td>\n",
       "      <td>370376</td>\n",
       "      <td>7.7500</td>\n",
       "      <td>Q</td>\n",
       "    </tr>\n",
       "  </tbody>\n",
       "</table>\n",
       "<p>891 rows × 11 columns</p>\n",
       "</div>"
      ],
      "text/plain": [
       "     Id_Pasajeros  Sobrevivió?  Clase  \\\n",
       "0               1            0      3   \n",
       "1               2            1      1   \n",
       "2               3            1      3   \n",
       "3               4            1      1   \n",
       "4               5            0      3   \n",
       "..            ...          ...    ...   \n",
       "886           887            0      2   \n",
       "887           888            1      1   \n",
       "888           889            0      3   \n",
       "889           890            1      1   \n",
       "890           891            0      3   \n",
       "\n",
       "                                                Nombre  Género  Edad  \\\n",
       "0                              Braund, Mr. Owen Harris    male  22.0   \n",
       "1    Cumings, Mrs. John Bradley (Florence Briggs Th...  female  38.0   \n",
       "2                               Heikkinen, Miss. Laina  female  26.0   \n",
       "3         Futrelle, Mrs. Jacques Heath (Lily May Peel)  female  35.0   \n",
       "4                             Allen, Mr. William Henry    male  35.0   \n",
       "..                                                 ...     ...   ...   \n",
       "886                              Montvila, Rev. Juozas    male  27.0   \n",
       "887                       Graham, Miss. Margaret Edith  female  19.0   \n",
       "888           Johnston, Miss. Catherine Helen \"Carrie\"  female   NaN   \n",
       "889                              Behr, Mr. Karl Howell    male  26.0   \n",
       "890                                Dooley, Mr. Patrick    male  32.0   \n",
       "\n",
       "     Hermanos  Hijos/Padres            Ticket   Tarifa PuertoEmbarque  \n",
       "0           1             0         A/5 21171   7.2500              S  \n",
       "1           1             0          PC 17599  71.2833              C  \n",
       "2           0             0  STON/O2. 3101282   7.9250              S  \n",
       "3           1             0            113803  53.1000              S  \n",
       "4           0             0            373450   8.0500              S  \n",
       "..        ...           ...               ...      ...            ...  \n",
       "886         0             0            211536  13.0000              S  \n",
       "887         0             0            112053  30.0000              S  \n",
       "888         1             2        W./C. 6607  23.4500              S  \n",
       "889         0             0            111369  30.0000              C  \n",
       "890         0             0            370376   7.7500              Q  \n",
       "\n",
       "[891 rows x 11 columns]"
      ]
     },
     "execution_count": 14,
     "metadata": {},
     "output_type": "execute_result"
    }
   ],
   "source": [
    "# 2_ Datos Faltantes\n",
    "\n",
    "\n",
    "# Cambio nombres de atributos.\n",
    "data.rename(columns={'PassengerId': 'Id_Pasajeros', 'Survived': 'Sobrevivió?', 'Pclass': 'Clase', 'Name': 'Nombre', 'Sex': 'Género', 'Age': 'Edad', 'SibSp': 'Hermanos', 'Parch':'Hijos/Padres', 'Fare': 'Tarifa', 'Embarked': 'PuertoEmbarque'},  inplace=True)\n",
    "data"
   ]
  },
  {
   "cell_type": "code",
   "execution_count": 15,
   "id": "6L6msvFfs9B6",
   "metadata": {
    "colab": {
     "base_uri": "https://localhost:8080/"
    },
    "executionInfo": {
     "elapsed": 268,
     "status": "ok",
     "timestamp": 1688003205229,
     "user": {
      "displayName": "Daniela Busetti Diaz",
      "userId": "15223786818188833385"
     },
     "user_tz": 180
    },
    "id": "6L6msvFfs9B6",
    "outputId": "a1a7edc0-1110-443f-b5e7-0187285b0368"
   },
   "outputs": [
    {
     "name": "stdout",
     "output_type": "stream",
     "text": [
      "No hay filas duplicadas en el dataset.\n"
     ]
    }
   ],
   "source": [
    "# 3_ Registros repetido\n",
    "# Verificamos si hay filas repetidas\n",
    "\n",
    "duplicados = data.duplicated()\n",
    "\n",
    "if duplicados.any():\n",
    "    print(\"Existen filas duplicadas en el dataset.\")\n",
    "else:\n",
    "    print(\"No hay filas duplicadas en el dataset.\")\n",
    "\n",
    "# En el caso que si ubieran utilizariamos: data.drop_duplicates(inplace=True)"
   ]
  },
  {
   "cell_type": "code",
   "execution_count": null,
   "id": "KgzgC6qq9T1w",
   "metadata": {
    "colab": {
     "base_uri": "https://localhost:8080/",
     "height": 718
    },
    "executionInfo": {
     "elapsed": 901,
     "status": "ok",
     "timestamp": 1688003210577,
     "user": {
      "displayName": "Daniela Busetti Diaz",
      "userId": "15223786818188833385"
     },
     "user_tz": 180
    },
    "id": "KgzgC6qq9T1w",
    "outputId": "5b8aa606-9fb6-4772-8c7c-25745d70d003"
   },
   "outputs": [
    {
     "data": {
      "image/png": "[encoded data removed]",
      "text/plain": [
       "<Figure size 800x800 with 4 Axes>"
      ]
     },
     "metadata": {},
     "output_type": "display_data"
    }
   ],
   "source": [
    "# 4_ Valores extremos\n",
    "# Tomamos las columnas con varibles numéricas que queremos analizar\n",
    "cols_num = ['Edad', 'Hermanos', 'Hijos/Padres', 'Tarifa']\n",
    "\n",
    "fig, ax = plt.subplots(nrows=4, ncols=1, figsize=(8,8))\n",
    "fig.subplots_adjust(hspace=1)\n",
    "\n",
    "for i, col in enumerate(cols_num):\n",
    "    sns.boxplot(x=col, data=data, ax=ax[i])\n",
    "    ax[i].set_title(col)\n"
   ]
  },
  {
   "cell_type": "markdown",
   "id": "o8Q1dlrwdkD4",
   "metadata": {
    "id": "o8Q1dlrwdkD4"
   },
   "source": [
    "El análisis de valores extremos nos permite ver si hay datos que no correspondan, por ejemplo una edad negativa, o valores que no esten en un cierto rango y no sean válidos. De los graficos concluimos que el mayor número de personas está comprendida entre los 20 y 37 años, con pocas persona en el rango entre 65 y 80 años. La mayoría tiene 0 o 1 hermanos, y posiblemente en el rango de 1 a 10 personas tenga 8 hermanos. La mayoria de las persona viajó sin hijos o padres. Y las tarifas se concentran en un rango entre 3 y 40. Podemos observar un valor extremo, el de 500, que difiere mucho de los anteriores pero está la posibilidad de que le hayan cobrado más."
   ]
  },
  {
   "cell_type": "code",
   "execution_count": null,
   "id": "M-n-dBOm5u93",
   "metadata": {
    "colab": {
     "base_uri": "https://localhost:8080/"
    },
    "executionInfo": {
     "elapsed": 278,
     "status": "ok",
     "timestamp": 1688003217281,
     "user": {
      "displayName": "Daniela Busetti Diaz",
      "userId": "15223786818188833385"
     },
     "user_tz": 180
    },
    "id": "M-n-dBOm5u93",
    "outputId": "4341bbf6-29d1-4885-cf06-795046303963"
   },
   "outputs": [
    {
     "data": {
      "text/plain": [
       "29.69911764705882"
      ]
     },
     "execution_count": 14,
     "metadata": {},
     "output_type": "execute_result"
    }
   ],
   "source": [
    "# 5_ Datos faltantes\n",
    "# Los vamos a reemplazar con el promedio de las edades\n",
    "# Calculamos los promedios\n",
    "promedio_edad = data['Edad'].mean()\n",
    "promedio_edad"
   ]
  },
  {
   "cell_type": "code",
   "execution_count": null,
   "id": "weWCPiNG_WqM",
   "metadata": {
    "id": "weWCPiNG_WqM"
   },
   "outputs": [],
   "source": [
    "# Remplazamos los datos faltantes por el promedio de las edades\n",
    "data['Edad'].fillna(promedio_edad, inplace=True)"
   ]
  },
  {
   "cell_type": "code",
   "execution_count": null,
   "id": "Pdul7TPOB0dd",
   "metadata": {
    "colab": {
     "base_uri": "https://localhost:8080/"
    },
    "executionInfo": {
     "elapsed": 300,
     "status": "ok",
     "timestamp": 1688003229343,
     "user": {
      "displayName": "Daniela Busetti Diaz",
      "userId": "15223786818188833385"
     },
     "user_tz": 180
    },
    "id": "Pdul7TPOB0dd",
    "outputId": "8d5ebdfa-ef56-4d06-b405-84e9bcfc9006"
   },
   "outputs": [
    {
     "data": {
      "text/plain": [
       "Id_Pasajeros      0\n",
       "Sobrevivió?       0\n",
       "Clase             0\n",
       "Nombre            0\n",
       "Género            0\n",
       "Edad              0\n",
       "Hermanos          0\n",
       "Hijos/Padres      0\n",
       "Ticket            0\n",
       "Tarifa            0\n",
       "PuertoEmbarque    2\n",
       "dtype: int64"
      ]
     },
     "execution_count": 16,
     "metadata": {},
     "output_type": "execute_result"
    }
   ],
   "source": [
    "# Comprobamos que los datos faltantes fueros reemplazados\n",
    "data.isnull().sum()"
   ]
  },
  {
   "cell_type": "code",
   "execution_count": null,
   "id": "rD-DuPSRNqcJ",
   "metadata": {
    "colab": {
     "base_uri": "https://localhost:8080/"
    },
    "executionInfo": {
     "elapsed": 255,
     "status": "ok",
     "timestamp": 1688003242586,
     "user": {
      "displayName": "Daniela Busetti Diaz",
      "userId": "15223786818188833385"
     },
     "user_tz": 180
    },
    "id": "rD-DuPSRNqcJ",
    "outputId": "2bbdc4ea-97b6-416f-920e-2c44fae0133c"
   },
   "outputs": [
    {
     "data": {
      "text/plain": [
       "0    S\n",
       "Name: PuertoEmbarque, dtype: object"
      ]
     },
     "execution_count": 17,
     "metadata": {},
     "output_type": "execute_result"
    }
   ],
   "source": [
    "# Determinamos la moda de la columna Puerto Embarque\n",
    "\n",
    "moda_embarque = data['PuertoEmbarque'].mode()\n",
    "moda_embarque\n"
   ]
  },
  {
   "cell_type": "code",
   "execution_count": null,
   "id": "k4JG9TxseKyz",
   "metadata": {
    "id": "k4JG9TxseKyz"
   },
   "outputs": [],
   "source": [
    "# Remplazamos los datos faltantes por la moda del Puerto de Embarque\n",
    "data['PuertoEmbarque'].fillna('S', inplace=True)"
   ]
  },
  {
   "cell_type": "code",
   "execution_count": null,
   "id": "9EDx7AQbdn91",
   "metadata": {
    "colab": {
     "base_uri": "https://localhost:8080/"
    },
    "executionInfo": {
     "elapsed": 9,
     "status": "ok",
     "timestamp": 1688003302173,
     "user": {
      "displayName": "Daniela Busetti Diaz",
      "userId": "15223786818188833385"
     },
     "user_tz": 180
    },
    "id": "9EDx7AQbdn91",
    "outputId": "8f2c3482-f60c-4e6f-924b-0be42a766a39"
   },
   "outputs": [
    {
     "data": {
      "text/plain": [
       "Id_Pasajeros      0\n",
       "Sobrevivió?       0\n",
       "Clase             0\n",
       "Nombre            0\n",
       "Género            0\n",
       "Edad              0\n",
       "Hermanos          0\n",
       "Hijos/Padres      0\n",
       "Ticket            0\n",
       "Tarifa            0\n",
       "PuertoEmbarque    0\n",
       "dtype: int64"
      ]
     },
     "execution_count": 21,
     "metadata": {},
     "output_type": "execute_result"
    }
   ],
   "source": [
    "# Comprobamos que los datos faltantes fueros reemplazados\n",
    "data.isna().sum()"
   ]
  },
  {
   "cell_type": "markdown",
   "id": "8sZZhTXqhqQy",
   "metadata": {
    "id": "8sZZhTXqhqQy"
   },
   "source": [
    "Hemos limpiado y transformado el Dataset para que quede listo para el análisis"
   ]
  },
  {
   "cell_type": "markdown",
   "id": "a15f4b50",
   "metadata": {
    "id": "a15f4b50"
   },
   "source": [
    "**2) Análisis exploratorio de datos: Aplicar técnicas de análisis exploratorio para comprender y explorar los datos en profundidad. Esto puede incluir la identificación de patrones, relaciones, valores atípicos y distribuciones de variables.**\n",
    "\n",
    "1_ Obtenemos los cálculos estadístico del dataset\n",
    "\n",
    "2_ Análisis univariado\n",
    "\n",
    "3_ Análisis bivariados\n",
    "    "
   ]
  },
  {
   "cell_type": "code",
   "execution_count": null,
   "id": "c4996530",
   "metadata": {
    "colab": {
     "base_uri": "https://localhost:8080/",
     "height": 300
    },
    "executionInfo": {
     "elapsed": 258,
     "status": "ok",
     "timestamp": 1688003309960,
     "user": {
      "displayName": "Daniela Busetti Diaz",
      "userId": "15223786818188833385"
     },
     "user_tz": 180
    },
    "id": "c4996530",
    "outputId": "13fb78ea-671d-426c-b127-f5f65a39c6dd"
   },
   "outputs": [
    {
     "data": {
      "text/html": [
       "\n",
       "  <div id=\"df-57efdd0f-be0d-470f-8125-06eb12f4fc29\">\n",
       "    <div class=\"colab-df-container\">\n",
       "      <div>\n",
       "<style scoped>\n",
       "    .dataframe tbody tr th:only-of-type {\n",
       "        vertical-align: middle;\n",
       "    }\n",
       "\n",
       "    .dataframe tbody tr th {\n",
       "        vertical-align: top;\n",
       "    }\n",
       "\n",
       "    .dataframe thead th {\n",
       "        text-align: right;\n",
       "    }\n",
       "</style>\n",
       "<table border=\"1\" class=\"dataframe\">\n",
       "  <thead>\n",
       "    <tr style=\"text-align: right;\">\n",
       "      <th></th>\n",
       "      <th>Id_Pasajeros</th>\n",
       "      <th>Sobrevivió?</th>\n",
       "      <th>Clase</th>\n",
       "      <th>Edad</th>\n",
       "      <th>Hermanos</th>\n",
       "      <th>Hijos/Padres</th>\n",
       "      <th>Tarifa</th>\n",
       "    </tr>\n",
       "  </thead>\n",
       "  <tbody>\n",
       "    <tr>\n",
       "      <th>count</th>\n",
       "      <td>891.000000</td>\n",
       "      <td>891.000000</td>\n",
       "      <td>891.000000</td>\n",
       "      <td>891.000000</td>\n",
       "      <td>891.000000</td>\n",
       "      <td>891.000000</td>\n",
       "      <td>891.000000</td>\n",
       "    </tr>\n",
       "    <tr>\n",
       "      <th>mean</th>\n",
       "      <td>446.000000</td>\n",
       "      <td>0.383838</td>\n",
       "      <td>2.308642</td>\n",
       "      <td>29.699118</td>\n",
       "      <td>0.523008</td>\n",
       "      <td>0.381594</td>\n",
       "      <td>32.204208</td>\n",
       "    </tr>\n",
       "    <tr>\n",
       "      <th>std</th>\n",
       "      <td>257.353842</td>\n",
       "      <td>0.486592</td>\n",
       "      <td>0.836071</td>\n",
       "      <td>13.002015</td>\n",
       "      <td>1.102743</td>\n",
       "      <td>0.806057</td>\n",
       "      <td>49.693429</td>\n",
       "    </tr>\n",
       "    <tr>\n",
       "      <th>min</th>\n",
       "      <td>1.000000</td>\n",
       "      <td>0.000000</td>\n",
       "      <td>1.000000</td>\n",
       "      <td>0.420000</td>\n",
       "      <td>0.000000</td>\n",
       "      <td>0.000000</td>\n",
       "      <td>0.000000</td>\n",
       "    </tr>\n",
       "    <tr>\n",
       "      <th>25%</th>\n",
       "      <td>223.500000</td>\n",
       "      <td>0.000000</td>\n",
       "      <td>2.000000</td>\n",
       "      <td>22.000000</td>\n",
       "      <td>0.000000</td>\n",
       "      <td>0.000000</td>\n",
       "      <td>7.910400</td>\n",
       "    </tr>\n",
       "    <tr>\n",
       "      <th>50%</th>\n",
       "      <td>446.000000</td>\n",
       "      <td>0.000000</td>\n",
       "      <td>3.000000</td>\n",
       "      <td>29.699118</td>\n",
       "      <td>0.000000</td>\n",
       "      <td>0.000000</td>\n",
       "      <td>14.454200</td>\n",
       "    </tr>\n",
       "    <tr>\n",
       "      <th>75%</th>\n",
       "      <td>668.500000</td>\n",
       "      <td>1.000000</td>\n",
       "      <td>3.000000</td>\n",
       "      <td>35.000000</td>\n",
       "      <td>1.000000</td>\n",
       "      <td>0.000000</td>\n",
       "      <td>31.000000</td>\n",
       "    </tr>\n",
       "    <tr>\n",
       "      <th>max</th>\n",
       "      <td>891.000000</td>\n",
       "      <td>1.000000</td>\n",
       "      <td>3.000000</td>\n",
       "      <td>80.000000</td>\n",
       "      <td>8.000000</td>\n",
       "      <td>6.000000</td>\n",
       "      <td>512.329200</td>\n",
       "    </tr>\n",
       "  </tbody>\n",
       "</table>\n",
       "</div>\n",
       "      <button class=\"colab-df-convert\" onclick=\"convertToInteractive('df-57efdd0f-be0d-470f-8125-06eb12f4fc29')\"\n",
       "              title=\"Convert this dataframe to an interactive table.\"\n",
       "              style=\"display:none;\">\n",
       "        \n",
       "  <svg xmlns=\"http://www.w3.org/2000/svg\" height=\"24px\"viewBox=\"0 0 24 24\"\n",
       "       width=\"24px\">\n",
       "    <path d=\"M0 0h24v24H0V0z\" fill=\"none\"/>\n",
       "    <path d=\"M18.56 5.44l.94 2.06.94-2.06 2.06-.94-2.06-.94-.94-2.06-.94 2.06-2.06.94zm-11 1L8.5 8.5l.94-2.06 2.06-.94-2.06-.94L8.5 2.5l-.94 2.06-2.06.94zm10 10l.94 2.06.94-2.06 2.06-.94-2.06-.94-.94-2.06-.94 2.06-2.06.94z\"/><path d=\"M17.41 7.96l-1.37-1.37c-.4-.4-.92-.59-1.43-.59-.52 0-1.04.2-1.43.59L10.3 9.45l-7.72 7.72c-.78.78-.78 2.05 0 2.83L4 21.41c.39.39.9.59 1.41.59.51 0 1.02-.2 1.41-.59l7.78-7.78 2.81-2.81c.8-.78.8-2.07 0-2.86zM5.41 20L4 18.59l7.72-7.72 1.47 1.35L5.41 20z\"/>\n",
       "  </svg>\n",
       "      </button>\n",
       "      \n",
       "  <style>\n",
       "    .colab-df-container {\n",
       "      display:flex;\n",
       "      flex-wrap:wrap;\n",
       "      gap: 12px;\n",
       "    }\n",
       "\n",
       "    .colab-df-convert {\n",
       "      background-color: #E8F0FE;\n",
       "      border: none;\n",
       "      border-radius: 50%;\n",
       "      cursor: pointer;\n",
       "      display: none;\n",
       "      fill: #1967D2;\n",
       "      height: 32px;\n",
       "      padding: 0 0 0 0;\n",
       "      width: 32px;\n",
       "    }\n",
       "\n",
       "    .colab-df-convert:hover {\n",
       "      background-color: #E2EBFA;\n",
       "      box-shadow: 0px 1px 2px rgba(60, 64, 67, 0.3), 0px 1px 3px 1px rgba(60, 64, 67, 0.15);\n",
       "      fill: #174EA6;\n",
       "    }\n",
       "\n",
       "    [theme=dark] .colab-df-convert {\n",
       "      background-color: #3B4455;\n",
       "      fill: #D2E3FC;\n",
       "    }\n",
       "\n",
       "    [theme=dark] .colab-df-convert:hover {\n",
       "      background-color: #434B5C;\n",
       "      box-shadow: 0px 1px 3px 1px rgba(0, 0, 0, 0.15);\n",
       "      filter: drop-shadow(0px 1px 2px rgba(0, 0, 0, 0.3));\n",
       "      fill: #FFFFFF;\n",
       "    }\n",
       "  </style>\n",
       "\n",
       "      <script>\n",
       "        const buttonEl =\n",
       "          document.querySelector('#df-57efdd0f-be0d-470f-8125-06eb12f4fc29 button.colab-df-convert');\n",
       "        buttonEl.style.display =\n",
       "          google.colab.kernel.accessAllowed ? 'block' : 'none';\n",
       "\n",
       "        async function convertToInteractive(key) {\n",
       "          const element = document.querySelector('#df-57efdd0f-be0d-470f-8125-06eb12f4fc29');\n",
       "          const dataTable =\n",
       "            await google.colab.kernel.invokeFunction('convertToInteractive',\n",
       "                                                     [key], {});\n",
       "          if (!dataTable) return;\n",
       "\n",
       "          const docLinkHtml = 'Like what you see? Visit the ' +\n",
       "            '<a target=\"_blank\" href=https://colab.research.google.com/notebooks/data_table.ipynb>data table notebook</a>'\n",
       "            + ' to learn more about interactive tables.';\n",
       "          element.innerHTML = '';\n",
       "          dataTable['output_type'] = 'display_data';\n",
       "          await google.colab.output.renderOutput(dataTable, element);\n",
       "          const docLink = document.createElement('div');\n",
       "          docLink.innerHTML = docLinkHtml;\n",
       "          element.appendChild(docLink);\n",
       "        }\n",
       "      </script>\n",
       "    </div>\n",
       "  </div>\n",
       "  "
      ],
      "text/plain": [
       "       Id_Pasajeros  Sobrevivió?       Clase        Edad    Hermanos  \\\n",
       "count    891.000000   891.000000  891.000000  891.000000  891.000000   \n",
       "mean     446.000000     0.383838    2.308642   29.699118    0.523008   \n",
       "std      257.353842     0.486592    0.836071   13.002015    1.102743   \n",
       "min        1.000000     0.000000    1.000000    0.420000    0.000000   \n",
       "25%      223.500000     0.000000    2.000000   22.000000    0.000000   \n",
       "50%      446.000000     0.000000    3.000000   29.699118    0.000000   \n",
       "75%      668.500000     1.000000    3.000000   35.000000    1.000000   \n",
       "max      891.000000     1.000000    3.000000   80.000000    8.000000   \n",
       "\n",
       "       Hijos/Padres      Tarifa  \n",
       "count    891.000000  891.000000  \n",
       "mean       0.381594   32.204208  \n",
       "std        0.806057   49.693429  \n",
       "min        0.000000    0.000000  \n",
       "25%        0.000000    7.910400  \n",
       "50%        0.000000   14.454200  \n",
       "75%        0.000000   31.000000  \n",
       "max        6.000000  512.329200  "
      ]
     },
     "execution_count": 22,
     "metadata": {},
     "output_type": "execute_result"
    }
   ],
   "source": [
    "#1_ Obtenemos los cálculos estadístico del dataset\n",
    "#Vemos los datos estadísticos que forman parte del conjunto de datos con describe()\n",
    "data.describe()"
   ]
  },
  {
   "cell_type": "markdown",
   "id": "6ba7b8bc",
   "metadata": {
    "id": "6ba7b8bc"
   },
   "source": [
    "Podemos apreciar que la cuenta de pasajeros es de 891 y que el promedio de supervivencia es de 38%. El rango de edad de los pasajeros va desde los meses de edad hasta los 80 años, siendo la edad promedio 30 años. Es un ejercicio interesante tratar de averiguar la tasa de supervivencia en base a características como la edad, la clase que pagó (1era, 2da o 3ra clase) o el género."
   ]
  },
  {
   "cell_type": "code",
   "execution_count": null,
   "id": "d7901509",
   "metadata": {
    "colab": {
     "base_uri": "https://localhost:8080/",
     "height": 1000
    },
    "executionInfo": {
     "elapsed": 1213,
     "status": "ok",
     "timestamp": 1688003318560,
     "user": {
      "displayName": "Daniela Busetti Diaz",
      "userId": "15223786818188833385"
     },
     "user_tz": 180
    },
    "id": "d7901509",
    "outputId": "66848716-110b-4326-8412-cea684d0ba10"
   },
   "outputs": [
    {
     "data": {
      "image/png": "[encoded data removed]",
      "text/plain": [
       "<Figure size 640x480 with 1 Axes>"
      ]
     },
     "metadata": {},
     "output_type": "display_data"
    },
    {
     "data": {
      "image/png": "[encoded data removed]",
      "text/plain": [
       "<Figure size 640x480 with 1 Axes>"
      ]
     },
     "metadata": {},
     "output_type": "display_data"
    },
    {
     "data": {
      "image/png": "[encoded data removed]",
      "text/plain": [
       "<Figure size 640x480 with 1 Axes>"
      ]
     },
     "metadata": {},
     "output_type": "display_data"
    },
    {
     "data": {
      "image/png": "[encoded data removed]",
      "text/plain": [
       "<Figure size 640x480 with 1 Axes>"
      ]
     },
     "metadata": {},
     "output_type": "display_data"
    }
   ],
   "source": [
    "#2_ Análisis univariado: Variables categóricas\n",
    "\n",
    "sns.countplot(x='Sobrevivió?', data=data)\n",
    "plt.show()\n",
    "sns.countplot(x='Clase', data=data)\n",
    "plt.show()\n",
    "sns.countplot(x='Género', data=data)\n",
    "plt.show()\n",
    "sns.countplot(x='PuertoEmbarque', data=data)\n",
    "plt.show()\n"
   ]
  },
  {
   "cell_type": "code",
   "execution_count": null,
   "id": "qKrosNV7uY5h",
   "metadata": {
    "colab": {
     "base_uri": "https://localhost:8080/",
     "height": 467
    },
    "executionInfo": {
     "elapsed": 944,
     "status": "ok",
     "timestamp": 1688003376515,
     "user": {
      "displayName": "Daniela Busetti Diaz",
      "userId": "15223786818188833385"
     },
     "user_tz": 180
    },
    "id": "qKrosNV7uY5h",
    "outputId": "c5b9a4a1-812e-4f45-c6ad-09932ce190ee"
   },
   "outputs": [
    {
     "data": {
      "text/plain": [
       "<Axes: xlabel='Edad', ylabel='count'>"
      ]
     },
     "execution_count": 25,
     "metadata": {},
     "output_type": "execute_result"
    },
    {
     "data": {
      "image/png": "[encoded data removed]",
      "text/plain": [
       "<Figure size 640x480 with 1 Axes>"
      ]
     },
     "metadata": {},
     "output_type": "display_data"
    }
   ],
   "source": [
    "# Análisis univariado: Variables numéricas\n",
    "sns.countplot(data=data, x='Edad')\n"
   ]
  },
  {
   "cell_type": "code",
   "execution_count": null,
   "id": "rX-qw4vF14ep",
   "metadata": {
    "colab": {
     "base_uri": "https://localhost:8080/",
     "height": 467
    },
    "executionInfo": {
     "elapsed": 2151,
     "status": "ok",
     "timestamp": 1688003395402,
     "user": {
      "displayName": "Daniela Busetti Diaz",
      "userId": "15223786818188833385"
     },
     "user_tz": 180
    },
    "id": "rX-qw4vF14ep",
    "outputId": "44164a2e-c2f7-419b-cf28-3f4089815d70"
   },
   "outputs": [
    {
     "data": {
      "text/plain": [
       "<Axes: xlabel='Tarifa', ylabel='count'>"
      ]
     },
     "execution_count": 26,
     "metadata": {},
     "output_type": "execute_result"
    },
    {
     "data": {
      "image/png": "[encoded data removed]",
      "text/plain": [
       "<Figure size 640x480 with 1 Axes>"
      ]
     },
     "metadata": {},
     "output_type": "display_data"
    }
   ],
   "source": [
    "# Análisis univariado: Variables numéricas\n",
    "sns.countplot(data=data, x='Tarifa')"
   ]
  },
  {
   "cell_type": "code",
   "execution_count": null,
   "id": "o5J0e88MrsRE",
   "metadata": {
    "colab": {
     "base_uri": "https://localhost:8080/",
     "height": 477
    },
    "executionInfo": {
     "elapsed": 350,
     "status": "ok",
     "timestamp": 1688006984743,
     "user": {
      "displayName": "Daniela Busetti Diaz",
      "userId": "15223786818188833385"
     },
     "user_tz": 180
    },
    "id": "o5J0e88MrsRE",
    "outputId": "ec1c0144-8a20-4b65-e09e-19f0b08c1e9c"
   },
   "outputs": [
    {
     "data": {
      "image/png": "[encoded data removed]",
      "text/plain": [
       "<Figure size 640x480 with 1 Axes>"
      ]
     },
     "metadata": {},
     "output_type": "display_data"
    }
   ],
   "source": [
    "#3_ Análisis bivariados\n",
    "\n",
    "# Configurar el estilo de Seaborn\n",
    "sns.set(style=\"whitegrid\")\n",
    "\n",
    "# Agrupar los datos y contar las ocurrencias\n",
    "grouped_data = data.groupby(['PuertoEmbarque', 'Sobrevivió?'])['Sobrevivió?'].count().unstack()\n",
    "\n",
    "# Crear el gráfico de barras doble\n",
    "grouped_data.plot(kind='bar', stacked=True)\n",
    "\n",
    "# Agregar etiquetas y título\n",
    "plt.xlabel('Puerto de Embarque')\n",
    "plt.ylabel('Cantidad')\n",
    "plt.title('Gráfico de barras doble')\n",
    "\n",
    "# Mostrar el gráfico\n",
    "plt.show()\n",
    "\n",
    "\n",
    "\n"
   ]
  },
  {
   "cell_type": "code",
   "execution_count": null,
   "id": "TSLKXGrtDydG",
   "metadata": {
    "colab": {
     "base_uri": "https://localhost:8080/",
     "height": 518
    },
    "executionInfo": {
     "elapsed": 332,
     "status": "ok",
     "timestamp": 1688007452965,
     "user": {
      "displayName": "Daniela Busetti Diaz",
      "userId": "15223786818188833385"
     },
     "user_tz": 180
    },
    "id": "TSLKXGrtDydG",
    "outputId": "7f07c3c5-d816-47c0-fe64-49d2e2d89f48"
   },
   "outputs": [
    {
     "data": {
      "image/png": "[encoded data removed]",
      "text/plain": [
       "<Figure size 640x480 with 1 Axes>"
      ]
     },
     "metadata": {},
     "output_type": "display_data"
    }
   ],
   "source": [
    "# Configurar el estilo de Seaborn\n",
    "sns.set(style=\"whitegrid\")\n",
    "\n",
    "# Agrupar los datos y contar las ocurrencias\n",
    "grouped_data = data.groupby(['Género', 'Sobrevivió?'])['Sobrevivió?'].count().unstack()\n",
    "\n",
    "# Crear el gráfico de barras doble\n",
    "grouped_data.plot(kind='bar', stacked=True)\n",
    "\n",
    "# Agregar etiquetas y título\n",
    "plt.xlabel('Género')\n",
    "plt.ylabel('Cantidad')\n",
    "plt.title('Gráfico de barras doble')\n",
    "\n",
    "# Mostrar el gráfico\n",
    "plt.show()"
   ]
  },
  {
   "cell_type": "code",
   "execution_count": null,
   "id": "G9tznY9Ma2xl",
   "metadata": {
    "colab": {
     "base_uri": "https://localhost:8080/",
     "height": 389
    },
    "executionInfo": {
     "elapsed": 349,
     "status": "ok",
     "timestamp": 1688007673114,
     "user": {
      "displayName": "Daniela Busetti Diaz",
      "userId": "15223786818188833385"
     },
     "user_tz": 180
    },
    "id": "G9tznY9Ma2xl",
    "outputId": "5ac4dd21-8ea3-4c7a-ce7e-9c0dfd2d5a16"
   },
   "outputs": [
    {
     "data": {
      "text/html": [
       "\n",
       "  <div id=\"df-cc56de21-a056-4db4-adf8-6725211f81e9\">\n",
       "    <div class=\"colab-df-container\">\n",
       "      <div>\n",
       "<style scoped>\n",
       "    .dataframe tbody tr th:only-of-type {\n",
       "        vertical-align: middle;\n",
       "    }\n",
       "\n",
       "    .dataframe tbody tr th {\n",
       "        vertical-align: top;\n",
       "    }\n",
       "\n",
       "    .dataframe thead th {\n",
       "        text-align: right;\n",
       "    }\n",
       "</style>\n",
       "<table border=\"1\" class=\"dataframe\">\n",
       "  <thead>\n",
       "    <tr style=\"text-align: right;\">\n",
       "      <th></th>\n",
       "      <th>Id_Pasajeros</th>\n",
       "      <th>Sobrevivió?</th>\n",
       "      <th>Clase</th>\n",
       "      <th>Nombre</th>\n",
       "      <th>Género</th>\n",
       "      <th>Edad</th>\n",
       "      <th>Hermanos</th>\n",
       "      <th>Hijos/Padres</th>\n",
       "      <th>Ticket</th>\n",
       "      <th>Tarifa</th>\n",
       "      <th>PuertoEmbarque</th>\n",
       "    </tr>\n",
       "  </thead>\n",
       "  <tbody>\n",
       "    <tr>\n",
       "      <th>0</th>\n",
       "      <td>1</td>\n",
       "      <td>0</td>\n",
       "      <td>3</td>\n",
       "      <td>Braund, Mr. Owen Harris</td>\n",
       "      <td>male</td>\n",
       "      <td>22.0</td>\n",
       "      <td>1</td>\n",
       "      <td>0</td>\n",
       "      <td>A/5 21171</td>\n",
       "      <td>7.2500</td>\n",
       "      <td>S</td>\n",
       "    </tr>\n",
       "    <tr>\n",
       "      <th>1</th>\n",
       "      <td>2</td>\n",
       "      <td>1</td>\n",
       "      <td>1</td>\n",
       "      <td>Cumings, Mrs. John Bradley (Florence Briggs Th...</td>\n",
       "      <td>female</td>\n",
       "      <td>38.0</td>\n",
       "      <td>1</td>\n",
       "      <td>0</td>\n",
       "      <td>PC 17599</td>\n",
       "      <td>71.2833</td>\n",
       "      <td>C</td>\n",
       "    </tr>\n",
       "    <tr>\n",
       "      <th>2</th>\n",
       "      <td>3</td>\n",
       "      <td>1</td>\n",
       "      <td>3</td>\n",
       "      <td>Heikkinen, Miss. Laina</td>\n",
       "      <td>female</td>\n",
       "      <td>26.0</td>\n",
       "      <td>0</td>\n",
       "      <td>0</td>\n",
       "      <td>STON/O2. 3101282</td>\n",
       "      <td>7.9250</td>\n",
       "      <td>S</td>\n",
       "    </tr>\n",
       "    <tr>\n",
       "      <th>3</th>\n",
       "      <td>4</td>\n",
       "      <td>1</td>\n",
       "      <td>1</td>\n",
       "      <td>Futrelle, Mrs. Jacques Heath (Lily May Peel)</td>\n",
       "      <td>female</td>\n",
       "      <td>35.0</td>\n",
       "      <td>1</td>\n",
       "      <td>0</td>\n",
       "      <td>113803</td>\n",
       "      <td>53.1000</td>\n",
       "      <td>S</td>\n",
       "    </tr>\n",
       "    <tr>\n",
       "      <th>4</th>\n",
       "      <td>5</td>\n",
       "      <td>0</td>\n",
       "      <td>3</td>\n",
       "      <td>Allen, Mr. William Henry</td>\n",
       "      <td>male</td>\n",
       "      <td>35.0</td>\n",
       "      <td>0</td>\n",
       "      <td>0</td>\n",
       "      <td>373450</td>\n",
       "      <td>8.0500</td>\n",
       "      <td>S</td>\n",
       "    </tr>\n",
       "  </tbody>\n",
       "</table>\n",
       "</div>\n",
       "      <button class=\"colab-df-convert\" onclick=\"convertToInteractive('df-cc56de21-a056-4db4-adf8-6725211f81e9')\"\n",
       "              title=\"Convert this dataframe to an interactive table.\"\n",
       "              style=\"display:none;\">\n",
       "        \n",
       "  <svg xmlns=\"http://www.w3.org/2000/svg\" height=\"24px\"viewBox=\"0 0 24 24\"\n",
       "       width=\"24px\">\n",
       "    <path d=\"M0 0h24v24H0V0z\" fill=\"none\"/>\n",
       "    <path d=\"M18.56 5.44l.94 2.06.94-2.06 2.06-.94-2.06-.94-.94-2.06-.94 2.06-2.06.94zm-11 1L8.5 8.5l.94-2.06 2.06-.94-2.06-.94L8.5 2.5l-.94 2.06-2.06.94zm10 10l.94 2.06.94-2.06 2.06-.94-2.06-.94-.94-2.06-.94 2.06-2.06.94z\"/><path d=\"M17.41 7.96l-1.37-1.37c-.4-.4-.92-.59-1.43-.59-.52 0-1.04.2-1.43.59L10.3 9.45l-7.72 7.72c-.78.78-.78 2.05 0 2.83L4 21.41c.39.39.9.59 1.41.59.51 0 1.02-.2 1.41-.59l7.78-7.78 2.81-2.81c.8-.78.8-2.07 0-2.86zM5.41 20L4 18.59l7.72-7.72 1.47 1.35L5.41 20z\"/>\n",
       "  </svg>\n",
       "      </button>\n",
       "      \n",
       "  <style>\n",
       "    .colab-df-container {\n",
       "      display:flex;\n",
       "      flex-wrap:wrap;\n",
       "      gap: 12px;\n",
       "    }\n",
       "\n",
       "    .colab-df-convert {\n",
       "      background-color: #E8F0FE;\n",
       "      border: none;\n",
       "      border-radius: 50%;\n",
       "      cursor: pointer;\n",
       "      display: none;\n",
       "      fill: #1967D2;\n",
       "      height: 32px;\n",
       "      padding: 0 0 0 0;\n",
       "      width: 32px;\n",
       "    }\n",
       "\n",
       "    .colab-df-convert:hover {\n",
       "      background-color: #E2EBFA;\n",
       "      box-shadow: 0px 1px 2px rgba(60, 64, 67, 0.3), 0px 1px 3px 1px rgba(60, 64, 67, 0.15);\n",
       "      fill: #174EA6;\n",
       "    }\n",
       "\n",
       "    [theme=dark] .colab-df-convert {\n",
       "      background-color: #3B4455;\n",
       "      fill: #D2E3FC;\n",
       "    }\n",
       "\n",
       "    [theme=dark] .colab-df-convert:hover {\n",
       "      background-color: #434B5C;\n",
       "      box-shadow: 0px 1px 3px 1px rgba(0, 0, 0, 0.15);\n",
       "      filter: drop-shadow(0px 1px 2px rgba(0, 0, 0, 0.3));\n",
       "      fill: #FFFFFF;\n",
       "    }\n",
       "  </style>\n",
       "\n",
       "      <script>\n",
       "        const buttonEl =\n",
       "          document.querySelector('#df-cc56de21-a056-4db4-adf8-6725211f81e9 button.colab-df-convert');\n",
       "        buttonEl.style.display =\n",
       "          google.colab.kernel.accessAllowed ? 'block' : 'none';\n",
       "\n",
       "        async function convertToInteractive(key) {\n",
       "          const element = document.querySelector('#df-cc56de21-a056-4db4-adf8-6725211f81e9');\n",
       "          const dataTable =\n",
       "            await google.colab.kernel.invokeFunction('convertToInteractive',\n",
       "                                                     [key], {});\n",
       "          if (!dataTable) return;\n",
       "\n",
       "          const docLinkHtml = 'Like what you see? Visit the ' +\n",
       "            '<a target=\"_blank\" href=https://colab.research.google.com/notebooks/data_table.ipynb>data table notebook</a>'\n",
       "            + ' to learn more about interactive tables.';\n",
       "          element.innerHTML = '';\n",
       "          dataTable['output_type'] = 'display_data';\n",
       "          await google.colab.output.renderOutput(dataTable, element);\n",
       "          const docLink = document.createElement('div');\n",
       "          docLink.innerHTML = docLinkHtml;\n",
       "          element.appendChild(docLink);\n",
       "        }\n",
       "      </script>\n",
       "    </div>\n",
       "  </div>\n",
       "  "
      ],
      "text/plain": [
       "   Id_Pasajeros  Sobrevivió?  Clase  \\\n",
       "0             1            0      3   \n",
       "1             2            1      1   \n",
       "2             3            1      3   \n",
       "3             4            1      1   \n",
       "4             5            0      3   \n",
       "\n",
       "                                              Nombre  Género  Edad  Hermanos  \\\n",
       "0                            Braund, Mr. Owen Harris    male  22.0         1   \n",
       "1  Cumings, Mrs. John Bradley (Florence Briggs Th...  female  38.0         1   \n",
       "2                             Heikkinen, Miss. Laina  female  26.0         0   \n",
       "3       Futrelle, Mrs. Jacques Heath (Lily May Peel)  female  35.0         1   \n",
       "4                           Allen, Mr. William Henry    male  35.0         0   \n",
       "\n",
       "   Hijos/Padres            Ticket   Tarifa PuertoEmbarque  \n",
       "0             0         A/5 21171   7.2500              S  \n",
       "1             0          PC 17599  71.2833              C  \n",
       "2             0  STON/O2. 3101282   7.9250              S  \n",
       "3             0            113803  53.1000              S  \n",
       "4             0            373450   8.0500              S  "
      ]
     },
     "execution_count": 37,
     "metadata": {},
     "output_type": "execute_result"
    }
   ],
   "source": [
    "data.head()"
   ]
  },
  {
   "cell_type": "code",
   "execution_count": null,
   "id": "3888c435-2850-4824-a7c8-943752c8caf6",
   "metadata": {
    "colab": {
     "base_uri": "https://localhost:8080/",
     "height": 413
    },
    "executionInfo": {
     "elapsed": 1735,
     "status": "ok",
     "timestamp": 1687996323464,
     "user": {
      "displayName": "Juan Jure",
      "userId": "04054838315222945492"
     },
     "user_tz": 180
    },
    "id": "3888c435-2850-4824-a7c8-943752c8caf6",
    "outputId": "b7f540fb-68d6-429a-8776-3bac2ca7117b"
   },
   "outputs": [
    {
     "data": {
      "image/png": "[encoded data removed]",
      "text/plain": [
       "<Figure size 640x480 with 1 Axes>"
      ]
     },
     "metadata": {},
     "output_type": "display_data"
    }
   ],
   "source": [
    "h=data[data.Nombre.str.contains('Mr.')].shape[0]\n",
    "mc=data[data.Nombre.str.contains('Mrs.')].shape[0]\n",
    "ms=data[data.Nombre.str.contains('Miss.')].shape[0]\n",
    "msd=data[data.Nombre.str.contains('Ms.')].shape[0]\n",
    "valores = [h,mc,ms,msd]\n",
    "personas = [\"hombres\",\"Mujeres casadas\",\"Mujeres solteras\",\"Mujeres sin estado civil\"]\n",
    "plt.pie(valores, labels=personas)\n",
    "plt.axis(\"equal\")\n",
    "plt.show()"
   ]
  },
  {
   "cell_type": "markdown",
   "id": "ace14238",
   "metadata": {
    "id": "ace14238"
   },
   "source": [
    "**3) Procesamiento y análisis de datos: Aplicar técnicas de procesamiento de datos para realizar tareas como filtrado, agregación, transformación y cálculo de métricas relevantes para el tema elegido. Utilizar herramientas de software y lenguajes de programación adecuados para llevar a cabo estas tareas.**"
   ]
  },
  {
   "cell_type": "code",
   "execution_count": null,
   "id": "b1b2e874",
   "metadata": {
    "colab": {
     "base_uri": "https://localhost:8080/"
    },
    "executionInfo": {
     "elapsed": 292,
     "status": "ok",
     "timestamp": 1688007680099,
     "user": {
      "displayName": "Daniela Busetti Diaz",
      "userId": "15223786818188833385"
     },
     "user_tz": 180
    },
    "id": "b1b2e874",
    "outputId": "5de1beb5-a62b-402a-9630-78a15908946e"
   },
   "outputs": [
    {
     "name": "stdout",
     "output_type": "stream",
     "text": [
      "     Edad  Género\n",
      "7     2.0    male\n",
      "9    14.0  female\n",
      "10    4.0  female\n",
      "14   14.0  female\n",
      "16    2.0    male\n",
      "..    ...     ...\n",
      "850   4.0    male\n",
      "852   9.0  female\n",
      "853  16.0  female\n",
      "869   4.0    male\n",
      "875  15.0  female\n",
      "\n",
      "[113 rows x 2 columns]\n"
     ]
    }
   ],
   "source": [
    "#Filtrado de datos:\n",
    "#Vamos a filtrar los datos para ver cuantos sobrevivientes menores de edad hubo en el hundimiento del titanic,\n",
    "# muestro las columnas de edad y género:\n",
    "filtered_data = data[data['Edad'] < 18]\n",
    "print(filtered_data[['Edad', 'Género']])"
   ]
  },
  {
   "cell_type": "code",
   "execution_count": null,
   "id": "a8213d12",
   "metadata": {
    "colab": {
     "base_uri": "https://localhost:8080/"
    },
    "executionInfo": {
     "elapsed": 288,
     "status": "ok",
     "timestamp": 1688007683388,
     "user": {
      "displayName": "Daniela Busetti Diaz",
      "userId": "15223786818188833385"
     },
     "user_tz": 180
    },
    "id": "a8213d12",
    "outputId": "c8b38735-8578-4999-883f-b627bd7877e4"
   },
   "outputs": [
    {
     "name": "stdout",
     "output_type": "stream",
     "text": [
      "Género\n",
      "female    9.236364\n",
      "male      8.856379\n",
      "Name: Edad, dtype: float64\n"
     ]
    }
   ],
   "source": [
    "#Agregación de datos 1:\n",
    "# Calcular la media de una columna agrupada por otra columna\n",
    "grouped_data_1 = filtered_data.groupby('Género')['Edad'].mean()\n",
    "print(grouped_data_1)\n"
   ]
  },
  {
   "cell_type": "code",
   "execution_count": null,
   "id": "7812bf86",
   "metadata": {
    "colab": {
     "base_uri": "https://localhost:8080/"
    },
    "executionInfo": {
     "elapsed": 281,
     "status": "ok",
     "timestamp": 1688007686049,
     "user": {
      "displayName": "Daniela Busetti Diaz",
      "userId": "15223786818188833385"
     },
     "user_tz": 180
    },
    "id": "7812bf86",
    "outputId": "a0e845f8-30f0-45c7-8214-0cc57c4a8b53"
   },
   "outputs": [
    {
     "name": "stdout",
     "output_type": "stream",
     "text": [
      "        count\n",
      "Género       \n",
      "female     55\n",
      "male       58\n"
     ]
    }
   ],
   "source": [
    "#Agregación de datos 2:\n",
    "# Calcular la suma y el conteo de una columna agrupada por otra columna\n",
    "grouped_data_2 = filtered_data.groupby('Género')['Edad'].agg(['count'])\n",
    "print(grouped_data_2)"
   ]
  },
  {
   "cell_type": "markdown",
   "id": "80ca779f",
   "metadata": {
    "id": "80ca779f"
   },
   "source": [
    "Del análisis se desprende que la media de edad de supervivencia de los 113 niños se encuentra en torno a los 9 años, y que en cuestiones de género fue mas equitativo que en el promedio general donde los varones tuvieron una media de supervivencia menor."
   ]
  },
  {
   "cell_type": "markdown",
   "id": "2ce30cee",
   "metadata": {
    "id": "2ce30cee"
   },
   "source": [
    "**4) Visualización de datos: Utilizar técnicas y herramientas de visualización de datos para representar gráficamente la información obtenida. Se deben explorar diferentes técnicas de visualización, como gráficos de barras, gráficos de dispersión, diagramas de caja, mapas, entre otros. Además, aplicar técnicas de visualización de múltiples variables para identificar relaciones y patrones complejos en los datos.**"
   ]
  },
  {
   "cell_type": "code",
   "execution_count": null,
   "id": "bace7498",
   "metadata": {
    "colab": {
     "base_uri": "https://localhost:8080/",
     "height": 481
    },
    "executionInfo": {
     "elapsed": 771,
     "status": "ok",
     "timestamp": 1688007690460,
     "user": {
      "displayName": "Daniela Busetti Diaz",
      "userId": "15223786818188833385"
     },
     "user_tz": 180
    },
    "id": "bace7498",
    "outputId": "37bab661-59e5-43d7-da98-f5657ce0ab22"
   },
   "outputs": [
    {
     "data": {
      "image/png": "[encoded data removed]",
      "text/plain": [
       "<Figure size 640x480 with 1 Axes>"
      ]
     },
     "metadata": {},
     "output_type": "display_data"
    }
   ],
   "source": [
    "#Gráfico de dispersión:\n",
    "# Crear un gráfico de dispersión utilizando las columnas \"Edad\" y \"Tarifa\" del DataFrame \"data\"\n",
    "plt.scatter(data['Edad'], data['Tarifa'])\n",
    "\n",
    "# Agregar etiquetas y título al gráfico\n",
    "plt.xlabel('Edad')\n",
    "plt.ylabel('Tarifa')\n",
    "plt.title('Gráfico de Dispersión: Edad vs Tarifa')\n",
    "\n",
    "# Mostrar el gráfico\n",
    "plt.show()"
   ]
  },
  {
   "cell_type": "markdown",
   "id": "ea101493",
   "metadata": {},
   "source": [
    "En el siguiente grafico podremos apreciar la supervivencia por generos.\n",
    "\n",
    "De los 891 pasajeros, 577 eran hombres y 314 mujeres. Los sobrevivientes fueron 342 personas de las cuales 233 fu4eron mujeres y 109 fueron hombres.\n",
    "Eso nos da un 74.20% de supervivencia de las mujeres de un total de 314.\n",
    "En el caso de los hombres sobrevivio el 18.89% de un total de 577."
   ]
  },
  {
   "cell_type": "code",
   "execution_count": 16,
   "id": "65abfd66",
   "metadata": {},
   "outputs": [
    {
     "name": "stderr",
     "output_type": "stream",
     "text": [
      "C:\\Users\\ezequiel\\AppData\\Local\\Temp\\ipykernel_7064\\1220463719.py:3: UserWarning: Boolean Series key will be reindexed to match DataFrame index.\n",
      "  sobrevive = [len(data[data['Sobrevivió?'] == 1][data['Género'] == 'male']),\n",
      "C:\\Users\\ezequiel\\AppData\\Local\\Temp\\ipykernel_7064\\1220463719.py:4: UserWarning: Boolean Series key will be reindexed to match DataFrame index.\n",
      "  len(data[data['Sobrevivió?'] == 1][data['Género'] == 'female'])]\n",
      "C:\\Users\\ezequiel\\AppData\\Local\\Temp\\ipykernel_7064\\1220463719.py:5: UserWarning: Boolean Series key will be reindexed to match DataFrame index.\n",
      "  no_sobrevive = [len(data[data['Sobrevivió?'] == 0][data['Género'] == 'male']),\n",
      "C:\\Users\\ezequiel\\AppData\\Local\\Temp\\ipykernel_7064\\1220463719.py:6: UserWarning: Boolean Series key will be reindexed to match DataFrame index.\n",
      "  len(data[data['Sobrevivió?'] == 0][data['Género'] == 'female'])]\n"
     ]
    },
    {
     "data": {
      "image/png": "[encoded data removed]",
      "text/plain": [
       "<Figure size 640x480 with 1 Axes>"
      ]
     },
     "metadata": {},
     "output_type": "display_data"
    }
   ],
   "source": [
    "# Obtener los datos para el gráfico\n",
    "genero = ['Masculino', 'Femenino']\n",
    "sobrevive = [len(data[data['Sobrevivió?'] == 1][data['Género'] == 'male']),\n",
    "             len(data[data['Sobrevivió?'] == 1][data['Género'] == 'female'])]\n",
    "no_sobrevive = [len(data[data['Sobrevivió?'] == 0][data['Género'] == 'male']),\n",
    "                len(data[data['Sobrevivió?'] == 0][data['Género'] == 'female'])]\n",
    "\n",
    "# Crear el gráfico de barras\n",
    "plt.bar(genero, sobrevive, label='Sobrevivientes')\n",
    "plt.bar(genero, no_sobrevive, bottom=sobrevive, label='No sobrevivientes')\n",
    "\n",
    "# Agregar etiquetas y título\n",
    "plt.xlabel('Género')\n",
    "plt.ylabel('Número de pasajeros')\n",
    "plt.title('Supervivencia por género en el Titanic')\n",
    "plt.legend()\n",
    "\n",
    "# Agregar el porcentaje dentro de las barras\n",
    "for i in range(len(genero)):\n",
    "    plt.text(genero[i], sobrevive[i] + no_sobrevive[i], f'{sobrevive[i]/(sobrevive[i]+no_sobrevive[i])*100:.1f}%', ha='center', va='top')\n",
    "\n",
    "\n",
    "# Mostrar el gráfico\n",
    "plt.show()\n",
    "\n"
   ]
  },
  {
   "cell_type": "markdown",
   "id": "5275b386",
   "metadata": {},
   "source": [
    "En este grafico vemos la comparacion de supervivencia por clases.\n",
    "\n",
    "En la primera clase viajaban 216 persona, en la segunda clase viajaban 184 personas y en tercera viajaban 491.\n",
    "En caso de la primera clase sobrevivieron 136 personas lo que representa un 63% de los pasajeros de esa clase.\n",
    "En la segunda clase sobrevivieron 87 perosnas siendo estos el 47.3% de los pasajeros de segunda clase.\n",
    "En la tercera clase solo sobrevivieron 119 personas de las 372, lo que significa el 24.2% de pasajeros."
   ]
  },
  {
   "cell_type": "code",
   "execution_count": 17,
   "id": "b90aad50",
   "metadata": {},
   "outputs": [
    {
     "name": "stderr",
     "output_type": "stream",
     "text": [
      "C:\\Users\\ezequiel\\AppData\\Local\\Temp\\ipykernel_7064\\3197377998.py:3: UserWarning: Boolean Series key will be reindexed to match DataFrame index.\n",
      "  sobrevive = [len(data[data['Sobrevivió?'] == 1][data['Clase'] == 1]),\n",
      "C:\\Users\\ezequiel\\AppData\\Local\\Temp\\ipykernel_7064\\3197377998.py:4: UserWarning: Boolean Series key will be reindexed to match DataFrame index.\n",
      "  len(data[data['Sobrevivió?'] == 1][data['Clase'] == 2]),\n",
      "C:\\Users\\ezequiel\\AppData\\Local\\Temp\\ipykernel_7064\\3197377998.py:5: UserWarning: Boolean Series key will be reindexed to match DataFrame index.\n",
      "  len(data[data['Sobrevivió?'] == 1][data['Clase'] == 3])]\n",
      "C:\\Users\\ezequiel\\AppData\\Local\\Temp\\ipykernel_7064\\3197377998.py:6: UserWarning: Boolean Series key will be reindexed to match DataFrame index.\n",
      "  no_sobrevive = [len(data[data['Sobrevivió?'] == 0][data['Clase'] == 1]),\n",
      "C:\\Users\\ezequiel\\AppData\\Local\\Temp\\ipykernel_7064\\3197377998.py:7: UserWarning: Boolean Series key will be reindexed to match DataFrame index.\n",
      "  len(data[data['Sobrevivió?'] == 0][data['Clase'] == 2]),\n",
      "C:\\Users\\ezequiel\\AppData\\Local\\Temp\\ipykernel_7064\\3197377998.py:8: UserWarning: Boolean Series key will be reindexed to match DataFrame index.\n",
      "  len(data[data['Sobrevivió?'] == 0][data['Clase'] == 3])]\n"
     ]
    },
    {
     "data": {
      "image/png": "[encoded data removed]",
      "text/plain": [
       "<Figure size 640x480 with 1 Axes>"
      ]
     },
     "metadata": {},
     "output_type": "display_data"
    }
   ],
   "source": [
    "# Obtener los datos para el gráfico\n",
    "clases = ['Primera clase', 'Segunda clase', 'Tercera clase']\n",
    "sobrevive = [len(data[data['Sobrevivió?'] == 1][data['Clase'] == 1]),\n",
    "             len(data[data['Sobrevivió?'] == 1][data['Clase'] == 2]),\n",
    "             len(data[data['Sobrevivió?'] == 1][data['Clase'] == 3])]\n",
    "no_sobrevive = [len(data[data['Sobrevivió?'] == 0][data['Clase'] == 1]),\n",
    "                len(data[data['Sobrevivió?'] == 0][data['Clase'] == 2]),\n",
    "                len(data[data['Sobrevivió?'] == 0][data['Clase'] == 3])]\n",
    "\n",
    "# Crear el gráfico de barras\n",
    "plt.bar(clases, sobrevive, label='Sobrevivientes')\n",
    "plt.bar(clases, no_sobrevive, bottom=sobrevive, label='No sobrevivientes')\n",
    "\n",
    "# Agregar etiquetas y título\n",
    "plt.xlabel('Clase')\n",
    "plt.ylabel('Número de pasajeros')\n",
    "plt.title('Supervivencia por clase en el Titanic')\n",
    "plt.legend()\n",
    "\n",
    "for i in range(len(clases)):\n",
    "    plt.text(clases[i], sobrevive[i] + no_sobrevive[i], f'{sobrevive[i]/(sobrevive[i]+no_sobrevive[i])*100:.1f}%', ha='center', va='top')\n",
    "\n",
    "# Mostrar el gráfico\n",
    "plt.show()"
   ]
  },
  {
   "cell_type": "markdown",
   "id": "e04f4117",
   "metadata": {},
   "source": [
    "En el siguiente grafico veremos la supervivencia dependiendo de el puerto donde embarcaron.\n",
    "\n",
    "El Titanic atraco en tres puertos, en Southampton abordaron 646 pasajeros, en Cherbourg abordaron 168 pasajeros y en Queenstown abordaron 77 pasajeros.\n",
    "\n",
    "Southampton: de los 646 pasajeros sobrevivieron 219 siendo estos el 33.9% del total.\n",
    "Cherbourg: de los 168 pasajeros sobrevivieron 93, osea el 55.4% del total.\n",
    "Queenstown: de los 77 pasajeros que abordaron alli sobrevivieron 30, el 39% del total."
   ]
  },
  {
   "cell_type": "code",
   "execution_count": 18,
   "id": "dfb4a01f",
   "metadata": {},
   "outputs": [
    {
     "name": "stderr",
     "output_type": "stream",
     "text": [
      "C:\\Users\\ezequiel\\AppData\\Local\\Temp\\ipykernel_7064\\802232808.py:3: UserWarning: Boolean Series key will be reindexed to match DataFrame index.\n",
      "  sobrevive = [len(data[data['Sobrevivió?'] == 1][data['PuertoEmbarque'] == 'S']),\n",
      "C:\\Users\\ezequiel\\AppData\\Local\\Temp\\ipykernel_7064\\802232808.py:4: UserWarning: Boolean Series key will be reindexed to match DataFrame index.\n",
      "  len(data[data['Sobrevivió?'] == 1][data['PuertoEmbarque'] == 'C']),\n",
      "C:\\Users\\ezequiel\\AppData\\Local\\Temp\\ipykernel_7064\\802232808.py:5: UserWarning: Boolean Series key will be reindexed to match DataFrame index.\n",
      "  len(data[data['Sobrevivió?'] == 1][data['PuertoEmbarque'] == 'Q'])]\n",
      "C:\\Users\\ezequiel\\AppData\\Local\\Temp\\ipykernel_7064\\802232808.py:6: UserWarning: Boolean Series key will be reindexed to match DataFrame index.\n",
      "  no_sobrevive = [len(data[data['Sobrevivió?'] == 0][data['PuertoEmbarque'] == 'S']),\n",
      "C:\\Users\\ezequiel\\AppData\\Local\\Temp\\ipykernel_7064\\802232808.py:7: UserWarning: Boolean Series key will be reindexed to match DataFrame index.\n",
      "  len(data[data['Sobrevivió?'] == 0][data['PuertoEmbarque'] == 'C']),\n",
      "C:\\Users\\ezequiel\\AppData\\Local\\Temp\\ipykernel_7064\\802232808.py:8: UserWarning: Boolean Series key will be reindexed to match DataFrame index.\n",
      "  len(data[data['Sobrevivió?'] == 0][data['PuertoEmbarque'] == 'Q'])]\n"
     ]
    },
    {
     "data": {
      "image/png": "[encoded data removed]",
      "text/plain": [
       "<Figure size 640x480 with 1 Axes>"
      ]
     },
     "metadata": {},
     "output_type": "display_data"
    }
   ],
   "source": [
    "# Obtener los datos para el gráfico\n",
    "puertos = ['Southampton', 'Cherbourg', 'Queenstown']\n",
    "sobrevive = [len(data[data['Sobrevivió?'] == 1][data['PuertoEmbarque'] == 'S']),\n",
    "             len(data[data['Sobrevivió?'] == 1][data['PuertoEmbarque'] == 'C']),\n",
    "             len(data[data['Sobrevivió?'] == 1][data['PuertoEmbarque'] == 'Q'])]\n",
    "no_sobrevive = [len(data[data['Sobrevivió?'] == 0][data['PuertoEmbarque'] == 'S']),\n",
    "                len(data[data['Sobrevivió?'] == 0][data['PuertoEmbarque'] == 'C']),\n",
    "                len(data[data['Sobrevivió?'] == 0][data['PuertoEmbarque'] == 'Q'])]\n",
    "\n",
    "\n",
    "# Crear el gráfico de barras apiladas\n",
    "plt.bar(puertos, sobrevive, label='Sobrevivientes')\n",
    "plt.bar(puertos, no_sobrevive, bottom=sobrevive, label='No sobrevivientes')\n",
    "\n",
    "for i in range(len(clases)):\n",
    "    plt.text(puertos[i], sobrevive[i] + no_sobrevive[i], f'{sobrevive[i]/(sobrevive[i]+no_sobrevive[i])*100:.1f}%', ha='center', va='top')\n",
    "\n",
    "# Agregar etiquetas y título\n",
    "plt.xlabel('Puerto de embarque')\n",
    "plt.ylabel('Número de pasajeros')\n",
    "plt.title('Supervivencia por puerto de embarque en el Titanic')\n",
    "plt.legend()\n",
    "\n",
    "# Mostrar el gráfico\n",
    "plt.show()"
   ]
  },
  {
   "cell_type": "markdown",
   "id": "e66a9342",
   "metadata": {
    "id": "e66a9342"
   },
   "source": [
    "**5) Comunicación efectiva de resultados: Generar reportes que presenten de manera clara y concisa los resultados obtenidos durante el procesamiento y análisis de datos.**"
   ]
  },
  {
   "cell_type": "markdown",
   "id": "wVmziACaGWBn",
   "metadata": {
    "id": "wVmziACaGWBn"
   },
   "source": [
    "Adjuntamos un tablero con Power BI en carpeta Visuals"
   ]
  },
  {
   "cell_type": "code",
   "execution_count": null,
   "id": "fzY_h7KFHwjh",
   "metadata": {
    "id": "fzY_h7KFHwjh"
   },
   "outputs": [],
   "source": []
  }
 ],
 "metadata": {
  "colab": {
   "provenance": []
  },
  "kernelspec": {
   "display_name": "Python 3 (ipykernel)",
   "language": "python",
   "name": "python3"
  },
  "language_info": {
   "codemirror_mode": {
    "name": "ipython",
    "version": 3
   },
   "file_extension": ".py",
   "mimetype": "text/x-python",
   "name": "python",
   "nbconvert_exporter": "python",
   "pygments_lexer": "ipython3",
   "version": "3.10.9"
  },
  "toc-showtags": false
 },
 "nbformat": 4,
 "nbformat_minor": 5
}
